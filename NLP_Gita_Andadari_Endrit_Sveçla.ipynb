{
  "cells": [
    {
      "cell_type": "markdown",
      "source": [
        "Gita Rayung Andadari\n",
        "<br>gita.rayungandadari@studenti.unipd.it\n",
        "<br>2041509\n",
        "\n",
        "Endrit Sveçla\n",
        "<br>endrit.svecla@studenti.unipd.it\n",
        "<br>2041500"
      ],
      "metadata": {
        "id": "thWH4gKbVv5o"
      }
    },
    {
      "cell_type": "markdown",
      "metadata": {
        "id": "_3gGsDLvUj7i"
      },
      "source": [
        "#Brief Overview : \n",
        " ***What are we working on? :*** \n",
        "<br>To classify which tweet that indicate natural disaster event. \n",
        "<br>\n",
        "<br> ***Why are we doing this? :***\n",
        "<br>Once the model is well trained, we can benefit this model to know real time natural disaster occurance report through twitter tweet .\n",
        "<br>\n",
        "<br> ***Goals :***\n",
        "<br>To train a model that can classify natural disaster topic on twitter.\n"
      ]
    },
    {
      "cell_type": "markdown",
      "metadata": {
        "id": "jQKyXU-rWOUR"
      },
      "source": [
        "#Initialization"
      ]
    },
    {
      "cell_type": "code",
      "execution_count": null,
      "metadata": {
        "id": "frmxkA3ropI2"
      },
      "outputs": [],
      "source": [
        "import matplotlib.pyplot as plt \n",
        "import seaborn as sns \n",
        "%matplotlib inline\n",
        "import re\n",
        "import warnings \n",
        "warnings.filterwarnings('ignore')\n",
        "from google.colab import files"
      ]
    },
    {
      "cell_type": "code",
      "execution_count": null,
      "metadata": {
        "id": "CPzMfoAKxhxQ"
      },
      "outputs": [],
      "source": [
        "def download_predictions_to_file(id_array, predictions_array):\n",
        "  # This function, given a numpy array with the ids of the test tweets and a numpy array with the corresponding predictions, \n",
        "  # creates and let's you download a prediction file suitable to be uploaded to the Kaggle website\n",
        "\n",
        "  id_array = id_array.reshape(len(id_array),1) # making sure the arrays are of the size requested by hstack(), i.e. (x,1) instead of (x,) \n",
        "  predictions_array = predictions_array.reshape(len(predictions_array),1)\n",
        "\n",
        "  from google.colab import files\n",
        "  result = pd.DataFrame(np.hstack((id_array, predictions_array)), columns=['id','target'])\n",
        "  result.to_csv('prediction_file.csv', index=False)\n",
        "  files.download('prediction_file.csv')\n"
      ]
    },
    {
      "cell_type": "code",
      "execution_count": null,
      "metadata": {
        "id": "mfxh5XsWkwci"
      },
      "outputs": [],
      "source": [
        "def download_datasets(data_set):\n",
        "  data_set.to_csv(data_set+'.csv', index=False)\n",
        "  files.download(data_set+'.csv')"
      ]
    },
    {
      "cell_type": "code",
      "execution_count": null,
      "metadata": {
        "id": "490C2OoPs4PX"
      },
      "outputs": [],
      "source": [
        "import numpy as np\n",
        "import pandas as pd \n",
        "\n",
        "data_url = 'https://www.math.unipd.it/~dasan/disaster/'\n",
        "train_csv = pd.read_csv(data_url + 'train.csv', sep=\",\") \n",
        "test_csv = pd.read_csv(data_url + 'test.csv', sep=\",\") \n"
      ]
    },
    {
      "cell_type": "code",
      "execution_count": null,
      "metadata": {
        "colab": {
          "base_uri": "https://localhost:8080/"
        },
        "id": "UhRrPpIFmB1b",
        "outputId": "55b9d241-fbe0-4c33-a2e6-488103dbe264"
      },
      "outputs": [
        {
          "output_type": "execute_result",
          "data": {
            "text/plain": [
              "((7613, 5), (3263, 4))"
            ]
          },
          "metadata": {},
          "execution_count": 5
        }
      ],
      "source": [
        "train_csv.shape, test_csv.shape"
      ]
    },
    {
      "cell_type": "code",
      "execution_count": null,
      "metadata": {
        "colab": {
          "base_uri": "https://localhost:8080/",
          "height": 206
        },
        "id": "e2fVkyY9yaSG",
        "outputId": "04e165d8-d9a1-4842-b5f6-86b0860dc7bb"
      },
      "outputs": [
        {
          "output_type": "execute_result",
          "data": {
            "text/html": [
              "\n",
              "  <div id=\"df-b27507fe-7c23-416c-9f5e-a67f0315665e\">\n",
              "    <div class=\"colab-df-container\">\n",
              "      <div>\n",
              "<style scoped>\n",
              "    .dataframe tbody tr th:only-of-type {\n",
              "        vertical-align: middle;\n",
              "    }\n",
              "\n",
              "    .dataframe tbody tr th {\n",
              "        vertical-align: top;\n",
              "    }\n",
              "\n",
              "    .dataframe thead th {\n",
              "        text-align: right;\n",
              "    }\n",
              "</style>\n",
              "<table border=\"1\" class=\"dataframe\">\n",
              "  <thead>\n",
              "    <tr style=\"text-align: right;\">\n",
              "      <th></th>\n",
              "      <th>id</th>\n",
              "      <th>keyword</th>\n",
              "      <th>location</th>\n",
              "      <th>text</th>\n",
              "      <th>target</th>\n",
              "    </tr>\n",
              "  </thead>\n",
              "  <tbody>\n",
              "    <tr>\n",
              "      <th>0</th>\n",
              "      <td>1</td>\n",
              "      <td>NaN</td>\n",
              "      <td>NaN</td>\n",
              "      <td>Our Deeds are the Reason of this #earthquake M...</td>\n",
              "      <td>1</td>\n",
              "    </tr>\n",
              "    <tr>\n",
              "      <th>1</th>\n",
              "      <td>4</td>\n",
              "      <td>NaN</td>\n",
              "      <td>NaN</td>\n",
              "      <td>Forest fire near La Ronge Sask. Canada</td>\n",
              "      <td>1</td>\n",
              "    </tr>\n",
              "    <tr>\n",
              "      <th>2</th>\n",
              "      <td>5</td>\n",
              "      <td>NaN</td>\n",
              "      <td>NaN</td>\n",
              "      <td>All residents asked to 'shelter in place' are ...</td>\n",
              "      <td>1</td>\n",
              "    </tr>\n",
              "    <tr>\n",
              "      <th>3</th>\n",
              "      <td>6</td>\n",
              "      <td>NaN</td>\n",
              "      <td>NaN</td>\n",
              "      <td>13,000 people receive #wildfires evacuation or...</td>\n",
              "      <td>1</td>\n",
              "    </tr>\n",
              "    <tr>\n",
              "      <th>4</th>\n",
              "      <td>7</td>\n",
              "      <td>NaN</td>\n",
              "      <td>NaN</td>\n",
              "      <td>Just got sent this photo from Ruby #Alaska as ...</td>\n",
              "      <td>1</td>\n",
              "    </tr>\n",
              "  </tbody>\n",
              "</table>\n",
              "</div>\n",
              "      <button class=\"colab-df-convert\" onclick=\"convertToInteractive('df-b27507fe-7c23-416c-9f5e-a67f0315665e')\"\n",
              "              title=\"Convert this dataframe to an interactive table.\"\n",
              "              style=\"display:none;\">\n",
              "        \n",
              "  <svg xmlns=\"http://www.w3.org/2000/svg\" height=\"24px\"viewBox=\"0 0 24 24\"\n",
              "       width=\"24px\">\n",
              "    <path d=\"M0 0h24v24H0V0z\" fill=\"none\"/>\n",
              "    <path d=\"M18.56 5.44l.94 2.06.94-2.06 2.06-.94-2.06-.94-.94-2.06-.94 2.06-2.06.94zm-11 1L8.5 8.5l.94-2.06 2.06-.94-2.06-.94L8.5 2.5l-.94 2.06-2.06.94zm10 10l.94 2.06.94-2.06 2.06-.94-2.06-.94-.94-2.06-.94 2.06-2.06.94z\"/><path d=\"M17.41 7.96l-1.37-1.37c-.4-.4-.92-.59-1.43-.59-.52 0-1.04.2-1.43.59L10.3 9.45l-7.72 7.72c-.78.78-.78 2.05 0 2.83L4 21.41c.39.39.9.59 1.41.59.51 0 1.02-.2 1.41-.59l7.78-7.78 2.81-2.81c.8-.78.8-2.07 0-2.86zM5.41 20L4 18.59l7.72-7.72 1.47 1.35L5.41 20z\"/>\n",
              "  </svg>\n",
              "      </button>\n",
              "      \n",
              "  <style>\n",
              "    .colab-df-container {\n",
              "      display:flex;\n",
              "      flex-wrap:wrap;\n",
              "      gap: 12px;\n",
              "    }\n",
              "\n",
              "    .colab-df-convert {\n",
              "      background-color: #E8F0FE;\n",
              "      border: none;\n",
              "      border-radius: 50%;\n",
              "      cursor: pointer;\n",
              "      display: none;\n",
              "      fill: #1967D2;\n",
              "      height: 32px;\n",
              "      padding: 0 0 0 0;\n",
              "      width: 32px;\n",
              "    }\n",
              "\n",
              "    .colab-df-convert:hover {\n",
              "      background-color: #E2EBFA;\n",
              "      box-shadow: 0px 1px 2px rgba(60, 64, 67, 0.3), 0px 1px 3px 1px rgba(60, 64, 67, 0.15);\n",
              "      fill: #174EA6;\n",
              "    }\n",
              "\n",
              "    [theme=dark] .colab-df-convert {\n",
              "      background-color: #3B4455;\n",
              "      fill: #D2E3FC;\n",
              "    }\n",
              "\n",
              "    [theme=dark] .colab-df-convert:hover {\n",
              "      background-color: #434B5C;\n",
              "      box-shadow: 0px 1px 3px 1px rgba(0, 0, 0, 0.15);\n",
              "      filter: drop-shadow(0px 1px 2px rgba(0, 0, 0, 0.3));\n",
              "      fill: #FFFFFF;\n",
              "    }\n",
              "  </style>\n",
              "\n",
              "      <script>\n",
              "        const buttonEl =\n",
              "          document.querySelector('#df-b27507fe-7c23-416c-9f5e-a67f0315665e button.colab-df-convert');\n",
              "        buttonEl.style.display =\n",
              "          google.colab.kernel.accessAllowed ? 'block' : 'none';\n",
              "\n",
              "        async function convertToInteractive(key) {\n",
              "          const element = document.querySelector('#df-b27507fe-7c23-416c-9f5e-a67f0315665e');\n",
              "          const dataTable =\n",
              "            await google.colab.kernel.invokeFunction('convertToInteractive',\n",
              "                                                     [key], {});\n",
              "          if (!dataTable) return;\n",
              "\n",
              "          const docLinkHtml = 'Like what you see? Visit the ' +\n",
              "            '<a target=\"_blank\" href=https://colab.research.google.com/notebooks/data_table.ipynb>data table notebook</a>'\n",
              "            + ' to learn more about interactive tables.';\n",
              "          element.innerHTML = '';\n",
              "          dataTable['output_type'] = 'display_data';\n",
              "          await google.colab.output.renderOutput(dataTable, element);\n",
              "          const docLink = document.createElement('div');\n",
              "          docLink.innerHTML = docLinkHtml;\n",
              "          element.appendChild(docLink);\n",
              "        }\n",
              "      </script>\n",
              "    </div>\n",
              "  </div>\n",
              "  "
            ],
            "text/plain": [
              "   id keyword  ...                                               text target\n",
              "0   1     NaN  ...  Our Deeds are the Reason of this #earthquake M...      1\n",
              "1   4     NaN  ...             Forest fire near La Ronge Sask. Canada      1\n",
              "2   5     NaN  ...  All residents asked to 'shelter in place' are ...      1\n",
              "3   6     NaN  ...  13,000 people receive #wildfires evacuation or...      1\n",
              "4   7     NaN  ...  Just got sent this photo from Ruby #Alaska as ...      1\n",
              "\n",
              "[5 rows x 5 columns]"
            ]
          },
          "metadata": {},
          "execution_count": 6
        }
      ],
      "source": [
        "train_csv.head()"
      ]
    },
    {
      "cell_type": "code",
      "execution_count": null,
      "metadata": {
        "colab": {
          "base_uri": "https://localhost:8080/",
          "height": 206
        },
        "id": "G3ujNj4j0Du0",
        "outputId": "84ca1ed9-ae55-4860-b735-080036610c1d"
      },
      "outputs": [
        {
          "output_type": "execute_result",
          "data": {
            "text/html": [
              "\n",
              "  <div id=\"df-3b34af98-855d-4f8b-a657-3ed1b064c06b\">\n",
              "    <div class=\"colab-df-container\">\n",
              "      <div>\n",
              "<style scoped>\n",
              "    .dataframe tbody tr th:only-of-type {\n",
              "        vertical-align: middle;\n",
              "    }\n",
              "\n",
              "    .dataframe tbody tr th {\n",
              "        vertical-align: top;\n",
              "    }\n",
              "\n",
              "    .dataframe thead th {\n",
              "        text-align: right;\n",
              "    }\n",
              "</style>\n",
              "<table border=\"1\" class=\"dataframe\">\n",
              "  <thead>\n",
              "    <tr style=\"text-align: right;\">\n",
              "      <th></th>\n",
              "      <th>id</th>\n",
              "      <th>keyword</th>\n",
              "      <th>location</th>\n",
              "      <th>text</th>\n",
              "    </tr>\n",
              "  </thead>\n",
              "  <tbody>\n",
              "    <tr>\n",
              "      <th>0</th>\n",
              "      <td>0</td>\n",
              "      <td>NaN</td>\n",
              "      <td>NaN</td>\n",
              "      <td>Just happened a terrible car crash</td>\n",
              "    </tr>\n",
              "    <tr>\n",
              "      <th>1</th>\n",
              "      <td>2</td>\n",
              "      <td>NaN</td>\n",
              "      <td>NaN</td>\n",
              "      <td>Heard about #earthquake is different cities, s...</td>\n",
              "    </tr>\n",
              "    <tr>\n",
              "      <th>2</th>\n",
              "      <td>3</td>\n",
              "      <td>NaN</td>\n",
              "      <td>NaN</td>\n",
              "      <td>there is a forest fire at spot pond, geese are...</td>\n",
              "    </tr>\n",
              "    <tr>\n",
              "      <th>3</th>\n",
              "      <td>9</td>\n",
              "      <td>NaN</td>\n",
              "      <td>NaN</td>\n",
              "      <td>Apocalypse lighting. #Spokane #wildfires</td>\n",
              "    </tr>\n",
              "    <tr>\n",
              "      <th>4</th>\n",
              "      <td>11</td>\n",
              "      <td>NaN</td>\n",
              "      <td>NaN</td>\n",
              "      <td>Typhoon Soudelor kills 28 in China and Taiwan</td>\n",
              "    </tr>\n",
              "  </tbody>\n",
              "</table>\n",
              "</div>\n",
              "      <button class=\"colab-df-convert\" onclick=\"convertToInteractive('df-3b34af98-855d-4f8b-a657-3ed1b064c06b')\"\n",
              "              title=\"Convert this dataframe to an interactive table.\"\n",
              "              style=\"display:none;\">\n",
              "        \n",
              "  <svg xmlns=\"http://www.w3.org/2000/svg\" height=\"24px\"viewBox=\"0 0 24 24\"\n",
              "       width=\"24px\">\n",
              "    <path d=\"M0 0h24v24H0V0z\" fill=\"none\"/>\n",
              "    <path d=\"M18.56 5.44l.94 2.06.94-2.06 2.06-.94-2.06-.94-.94-2.06-.94 2.06-2.06.94zm-11 1L8.5 8.5l.94-2.06 2.06-.94-2.06-.94L8.5 2.5l-.94 2.06-2.06.94zm10 10l.94 2.06.94-2.06 2.06-.94-2.06-.94-.94-2.06-.94 2.06-2.06.94z\"/><path d=\"M17.41 7.96l-1.37-1.37c-.4-.4-.92-.59-1.43-.59-.52 0-1.04.2-1.43.59L10.3 9.45l-7.72 7.72c-.78.78-.78 2.05 0 2.83L4 21.41c.39.39.9.59 1.41.59.51 0 1.02-.2 1.41-.59l7.78-7.78 2.81-2.81c.8-.78.8-2.07 0-2.86zM5.41 20L4 18.59l7.72-7.72 1.47 1.35L5.41 20z\"/>\n",
              "  </svg>\n",
              "      </button>\n",
              "      \n",
              "  <style>\n",
              "    .colab-df-container {\n",
              "      display:flex;\n",
              "      flex-wrap:wrap;\n",
              "      gap: 12px;\n",
              "    }\n",
              "\n",
              "    .colab-df-convert {\n",
              "      background-color: #E8F0FE;\n",
              "      border: none;\n",
              "      border-radius: 50%;\n",
              "      cursor: pointer;\n",
              "      display: none;\n",
              "      fill: #1967D2;\n",
              "      height: 32px;\n",
              "      padding: 0 0 0 0;\n",
              "      width: 32px;\n",
              "    }\n",
              "\n",
              "    .colab-df-convert:hover {\n",
              "      background-color: #E2EBFA;\n",
              "      box-shadow: 0px 1px 2px rgba(60, 64, 67, 0.3), 0px 1px 3px 1px rgba(60, 64, 67, 0.15);\n",
              "      fill: #174EA6;\n",
              "    }\n",
              "\n",
              "    [theme=dark] .colab-df-convert {\n",
              "      background-color: #3B4455;\n",
              "      fill: #D2E3FC;\n",
              "    }\n",
              "\n",
              "    [theme=dark] .colab-df-convert:hover {\n",
              "      background-color: #434B5C;\n",
              "      box-shadow: 0px 1px 3px 1px rgba(0, 0, 0, 0.15);\n",
              "      filter: drop-shadow(0px 1px 2px rgba(0, 0, 0, 0.3));\n",
              "      fill: #FFFFFF;\n",
              "    }\n",
              "  </style>\n",
              "\n",
              "      <script>\n",
              "        const buttonEl =\n",
              "          document.querySelector('#df-3b34af98-855d-4f8b-a657-3ed1b064c06b button.colab-df-convert');\n",
              "        buttonEl.style.display =\n",
              "          google.colab.kernel.accessAllowed ? 'block' : 'none';\n",
              "\n",
              "        async function convertToInteractive(key) {\n",
              "          const element = document.querySelector('#df-3b34af98-855d-4f8b-a657-3ed1b064c06b');\n",
              "          const dataTable =\n",
              "            await google.colab.kernel.invokeFunction('convertToInteractive',\n",
              "                                                     [key], {});\n",
              "          if (!dataTable) return;\n",
              "\n",
              "          const docLinkHtml = 'Like what you see? Visit the ' +\n",
              "            '<a target=\"_blank\" href=https://colab.research.google.com/notebooks/data_table.ipynb>data table notebook</a>'\n",
              "            + ' to learn more about interactive tables.';\n",
              "          element.innerHTML = '';\n",
              "          dataTable['output_type'] = 'display_data';\n",
              "          await google.colab.output.renderOutput(dataTable, element);\n",
              "          const docLink = document.createElement('div');\n",
              "          docLink.innerHTML = docLinkHtml;\n",
              "          element.appendChild(docLink);\n",
              "        }\n",
              "      </script>\n",
              "    </div>\n",
              "  </div>\n",
              "  "
            ],
            "text/plain": [
              "   id keyword location                                               text\n",
              "0   0     NaN      NaN                 Just happened a terrible car crash\n",
              "1   2     NaN      NaN  Heard about #earthquake is different cities, s...\n",
              "2   3     NaN      NaN  there is a forest fire at spot pond, geese are...\n",
              "3   9     NaN      NaN           Apocalypse lighting. #Spokane #wildfires\n",
              "4  11     NaN      NaN      Typhoon Soudelor kills 28 in China and Taiwan"
            ]
          },
          "metadata": {},
          "execution_count": 7
        }
      ],
      "source": [
        "test_csv.head()"
      ]
    },
    {
      "cell_type": "markdown",
      "metadata": {
        "id": "YQXWrpLFWTyT"
      },
      "source": [
        "#1. Data Analysis\n",
        "In this section, the goal is to understand the data set that we are dealing with. \n",
        "\n",
        "- Check for Distribution of the dataset\n",
        "- Check for training set class distribution \n",
        "\n",
        "\n",
        "- Check for null values\n",
        "- Check for duplicates \n"
      ]
    },
    {
      "cell_type": "markdown",
      "source": [
        "***Check for Distribution of dataset*** \n",
        "1. Based on number of words \n",
        "Pupose : We want to check if we have a good variation of the length of the tweet. We want our model to be able to detect for short, medium, and long tweet \n",
        "\n",
        "2. Length of tweet based on the category \n",
        "Purpose : We want to analyze the user behaviour. If they are in the middle of disaster would they send shorter or longer tweet "
      ],
      "metadata": {
        "id": "KFa5_EjNRcFP"
      }
    },
    {
      "cell_type": "code",
      "execution_count": null,
      "metadata": {
        "colab": {
          "base_uri": "https://localhost:8080/",
          "height": 265
        },
        "id": "5NTY1HHIyeNF",
        "outputId": "c9682cde-919d-4d45-fb88-1a1f7b291186"
      },
      "outputs": [
        {
          "output_type": "display_data",
          "data": {
            "image/png": "[encoded data removed]",
            "text/plain": [
              "<Figure size 432x288 with 1 Axes>"
            ]
          },
          "metadata": {
            "needs_background": "light"
          }
        }
      ],
      "source": [
        "#Distribution based on the amount of words \n",
        "\n",
        "length_train=train_csv['text'].str.len()\n",
        "length_test=test_csv['text'].str.len()\n",
        "plt.hist(length_train, bins=20, label = 'train_tweets')\n",
        "plt.hist(length_test, bins=20, label='test_tweets')\n",
        "plt.legend()\n",
        "plt.show()\n",
        "\n",
        "#Train and test dataset has similar distribution"
      ]
    },
    {
      "cell_type": "code",
      "source": [
        "#Length of tweet Distribution based on target \n",
        "\n",
        "length_train_0 = train_csv['text'].loc[train_csv['target']==0].str.len()\n",
        "length_train_1 = train_csv['text'].loc[train_csv['target']==1].str.len()\n",
        "\n",
        "plt.hist(length_train_0, bins=20, label = 'number_of_words_non_disaster')\n",
        "plt.hist(length_train_1, bins=20, label='number_of_words_disaster')\n",
        "plt.legend()\n",
        "plt.show()\n",
        "\n",
        "#This data can be interpreted as : people tend to share shorter tweet when reporting natural disaster occurancev"
      ],
      "metadata": {
        "colab": {
          "base_uri": "https://localhost:8080/",
          "height": 265
        },
        "id": "k2HtzJwKSJOf",
        "outputId": "f3cc2ce3-d296-4ca3-f4c5-91c68bee95e6"
      },
      "execution_count": null,
      "outputs": [
        {
          "output_type": "display_data",
          "data": {
            "image/png": "[encoded data removed]",
            "text/plain": [
              "<Figure size 432x288 with 1 Axes>"
            ]
          },
          "metadata": {
            "needs_background": "light"
          }
        }
      ]
    },
    {
      "cell_type": "markdown",
      "source": [
        "***Check for training set class distribution***\n",
        "\n",
        "Purpose: To check if we have balance training set or not "
      ],
      "metadata": {
        "id": "p4Zd0CqMT_-j"
      }
    },
    {
      "cell_type": "code",
      "execution_count": null,
      "metadata": {
        "colab": {
          "base_uri": "https://localhost:8080/",
          "height": 248
        },
        "id": "ktaqY9MVzqRj",
        "outputId": "28bc23cc-c934-4989-ce53-2273cfbfca86"
      },
      "outputs": [
        {
          "output_type": "display_data",
          "data": {
            "image/png": "[encoded data removed]",
            "text/plain": [
              "<Figure size 432x288 with 1 Axes>"
            ]
          },
          "metadata": {}
        }
      ],
      "source": [
        "#check the amount of 0 and 1 in each data sets \n",
        "import matplotlib.pyplot as plt\n",
        "\n",
        "percentage_disaster = (train_csv.target.value_counts()/ len(train_csv.target)*100)\n",
        "labels = ['Natural Disaster : '+str(np.round(percentage_disaster[0],1))+' %','Non-Natural Disaster : '+str(np.round(percentage_disaster[1]))+' %']\n",
        "plt.pie(percentage_disaster, labels=labels)\n",
        "plt.show() \n",
        "\n",
        "#notice that our dataset is imbalance. We have more non natural disaster tweet in the training set. \n",
        "#Hypothesis: This can make our future prediction to be more sensitive towards non natural disaster tweet "
      ]
    },
    {
      "cell_type": "markdown",
      "source": [
        "***Check for null values***\n",
        "<br>\n",
        "In training and test set, null value appear in keyword and location variables. For training set, almost **half of the data** does not have location value. This is possible because user might turn off their location while sending the tweet. Furthermore, since the location describe the location where the tweet was sent rather than location of the occurance of natural disaster, location data does not have a strong correlation to wether a tweet marked as a natural disaster or not. For example, people can be from the USA and tweeting about a natural disaster in the Phillipines. \n",
        "<br>\n",
        "<br>\n",
        "For these reasons, we will not consider location data for our model. "
      ],
      "metadata": {
        "id": "KG4x97bgWHEX"
      }
    },
    {
      "cell_type": "code",
      "execution_count": null,
      "metadata": {
        "colab": {
          "base_uri": "https://localhost:8080/"
        },
        "id": "BDkneGERwOa0",
        "outputId": "20c830a9-4c73-45ff-cc23-8a598fc6a4a9"
      },
      "outputs": [
        {
          "output_type": "stream",
          "name": "stdout",
          "text": [
            "Null Values in Training Set (In Percentage)\n",
            "id           0.000000\n",
            "keyword      0.807733\n",
            "location    49.862205\n",
            "text         0.000000\n",
            "target       0.000000\n",
            "dtype: float64\n",
            "\n",
            "Null Values in Test Set (In Percentage)\n",
            "id           0.000000\n",
            "keyword      0.803213\n",
            "location    51.204819\n",
            "text         0.000000\n",
            "dtype: float64\n"
          ]
        }
      ],
      "source": [
        "print('Null Values in Training Set (In Percentage)')\n",
        "print(train_csv.isnull().sum() / train_csv.count() * 100)\n",
        "print('')\n",
        "print('Null Values in Test Set (In Percentage)')\n",
        "print(test_csv.isnull().sum() / test_csv.count() * 100)\n"
      ]
    },
    {
      "cell_type": "markdown",
      "source": [
        "In our training set, for tweet marked as natural disaster, there are only about 1.3% of the tweet that does not contain a keyword. To overcome this issue, in data cleaning section we will replace these null value with empty strings "
      ],
      "metadata": {
        "id": "wlLevhLCax_v"
      }
    },
    {
      "cell_type": "code",
      "source": [
        "print('Null values in Training Set for Natural Disaster Tweet (In Percentage)')\n",
        "train_csv.loc[train_csv['target']==1].isnull().sum() / train_csv.loc[train_csv['target']==1].count() * 100"
      ],
      "metadata": {
        "colab": {
          "base_uri": "https://localhost:8080/"
        },
        "id": "YvHAPR7ZaU1_",
        "outputId": "41f51524-f4d6-4422-f2bc-9b053c4f911c"
      },
      "execution_count": null,
      "outputs": [
        {
          "output_type": "stream",
          "name": "stdout",
          "text": [
            "Null values in Training Set for Natural Disaster Tweet (In Percentage)\n"
          ]
        },
        {
          "output_type": "execute_result",
          "data": {
            "text/plain": [
              "id           0.000000\n",
              "keyword      1.300712\n",
              "location    48.952641\n",
              "text         0.000000\n",
              "target       0.000000\n",
              "dtype: float64"
            ]
          },
          "metadata": {},
          "execution_count": 12
        }
      ]
    },
    {
      "cell_type": "markdown",
      "source": [
        "For duplicated tweet, some of them does not have consisten target value. For example, take a look at the below tweets. For the same text, some marked as non disaster tweet and some marked as disaster tweet. This can be confusing for our program during the training phase. \n",
        "<br>\n",
        "<br>\n",
        "For this reason, we will remove duplicated tweet in our training set. "
      ],
      "metadata": {
        "id": "BpXxaaD6dJfF"
      }
    },
    {
      "cell_type": "code",
      "source": [
        "train_csv.loc[train_csv['text']==\"The Prophet (peace be upon him) said 'Save yourself from Hellfire even if it is by giving half a date in charity.'\"]"
      ],
      "metadata": {
        "colab": {
          "base_uri": "https://localhost:8080/",
          "height": 238
        },
        "id": "Duub7JCpcTGV",
        "outputId": "a7f8619f-7961-47e4-b0eb-7c716bed0b50"
      },
      "execution_count": null,
      "outputs": [
        {
          "output_type": "execute_result",
          "data": {
            "text/html": [
              "\n",
              "  <div id=\"df-221684d2-bdc3-4b66-9254-53d16264d83a\">\n",
              "    <div class=\"colab-df-container\">\n",
              "      <div>\n",
              "<style scoped>\n",
              "    .dataframe tbody tr th:only-of-type {\n",
              "        vertical-align: middle;\n",
              "    }\n",
              "\n",
              "    .dataframe tbody tr th {\n",
              "        vertical-align: top;\n",
              "    }\n",
              "\n",
              "    .dataframe thead th {\n",
              "        text-align: right;\n",
              "    }\n",
              "</style>\n",
              "<table border=\"1\" class=\"dataframe\">\n",
              "  <thead>\n",
              "    <tr style=\"text-align: right;\">\n",
              "      <th></th>\n",
              "      <th>id</th>\n",
              "      <th>keyword</th>\n",
              "      <th>location</th>\n",
              "      <th>text</th>\n",
              "      <th>target</th>\n",
              "    </tr>\n",
              "  </thead>\n",
              "  <tbody>\n",
              "    <tr>\n",
              "      <th>4284</th>\n",
              "      <td>6087</td>\n",
              "      <td>hellfire</td>\n",
              "      <td>NaN</td>\n",
              "      <td>The Prophet (peace be upon him) said 'Save you...</td>\n",
              "      <td>0</td>\n",
              "    </tr>\n",
              "    <tr>\n",
              "      <th>4286</th>\n",
              "      <td>6090</td>\n",
              "      <td>hellfire</td>\n",
              "      <td>Riyadh</td>\n",
              "      <td>The Prophet (peace be upon him) said 'Save you...</td>\n",
              "      <td>0</td>\n",
              "    </tr>\n",
              "    <tr>\n",
              "      <th>4292</th>\n",
              "      <td>6097</td>\n",
              "      <td>hellfire</td>\n",
              "      <td>NaN</td>\n",
              "      <td>The Prophet (peace be upon him) said 'Save you...</td>\n",
              "      <td>1</td>\n",
              "    </tr>\n",
              "    <tr>\n",
              "      <th>4304</th>\n",
              "      <td>6111</td>\n",
              "      <td>hellfire</td>\n",
              "      <td>NaN</td>\n",
              "      <td>The Prophet (peace be upon him) said 'Save you...</td>\n",
              "      <td>0</td>\n",
              "    </tr>\n",
              "    <tr>\n",
              "      <th>4309</th>\n",
              "      <td>6118</td>\n",
              "      <td>hellfire</td>\n",
              "      <td>NaN</td>\n",
              "      <td>The Prophet (peace be upon him) said 'Save you...</td>\n",
              "      <td>0</td>\n",
              "    </tr>\n",
              "    <tr>\n",
              "      <th>4318</th>\n",
              "      <td>6132</td>\n",
              "      <td>hellfire</td>\n",
              "      <td>NaN</td>\n",
              "      <td>The Prophet (peace be upon him) said 'Save you...</td>\n",
              "      <td>1</td>\n",
              "    </tr>\n",
              "  </tbody>\n",
              "</table>\n",
              "</div>\n",
              "      <button class=\"colab-df-convert\" onclick=\"convertToInteractive('df-221684d2-bdc3-4b66-9254-53d16264d83a')\"\n",
              "              title=\"Convert this dataframe to an interactive table.\"\n",
              "              style=\"display:none;\">\n",
              "        \n",
              "  <svg xmlns=\"http://www.w3.org/2000/svg\" height=\"24px\"viewBox=\"0 0 24 24\"\n",
              "       width=\"24px\">\n",
              "    <path d=\"M0 0h24v24H0V0z\" fill=\"none\"/>\n",
              "    <path d=\"M18.56 5.44l.94 2.06.94-2.06 2.06-.94-2.06-.94-.94-2.06-.94 2.06-2.06.94zm-11 1L8.5 8.5l.94-2.06 2.06-.94-2.06-.94L8.5 2.5l-.94 2.06-2.06.94zm10 10l.94 2.06.94-2.06 2.06-.94-2.06-.94-.94-2.06-.94 2.06-2.06.94z\"/><path d=\"M17.41 7.96l-1.37-1.37c-.4-.4-.92-.59-1.43-.59-.52 0-1.04.2-1.43.59L10.3 9.45l-7.72 7.72c-.78.78-.78 2.05 0 2.83L4 21.41c.39.39.9.59 1.41.59.51 0 1.02-.2 1.41-.59l7.78-7.78 2.81-2.81c.8-.78.8-2.07 0-2.86zM5.41 20L4 18.59l7.72-7.72 1.47 1.35L5.41 20z\"/>\n",
              "  </svg>\n",
              "      </button>\n",
              "      \n",
              "  <style>\n",
              "    .colab-df-container {\n",
              "      display:flex;\n",
              "      flex-wrap:wrap;\n",
              "      gap: 12px;\n",
              "    }\n",
              "\n",
              "    .colab-df-convert {\n",
              "      background-color: #E8F0FE;\n",
              "      border: none;\n",
              "      border-radius: 50%;\n",
              "      cursor: pointer;\n",
              "      display: none;\n",
              "      fill: #1967D2;\n",
              "      height: 32px;\n",
              "      padding: 0 0 0 0;\n",
              "      width: 32px;\n",
              "    }\n",
              "\n",
              "    .colab-df-convert:hover {\n",
              "      background-color: #E2EBFA;\n",
              "      box-shadow: 0px 1px 2px rgba(60, 64, 67, 0.3), 0px 1px 3px 1px rgba(60, 64, 67, 0.15);\n",
              "      fill: #174EA6;\n",
              "    }\n",
              "\n",
              "    [theme=dark] .colab-df-convert {\n",
              "      background-color: #3B4455;\n",
              "      fill: #D2E3FC;\n",
              "    }\n",
              "\n",
              "    [theme=dark] .colab-df-convert:hover {\n",
              "      background-color: #434B5C;\n",
              "      box-shadow: 0px 1px 3px 1px rgba(0, 0, 0, 0.15);\n",
              "      filter: drop-shadow(0px 1px 2px rgba(0, 0, 0, 0.3));\n",
              "      fill: #FFFFFF;\n",
              "    }\n",
              "  </style>\n",
              "\n",
              "      <script>\n",
              "        const buttonEl =\n",
              "          document.querySelector('#df-221684d2-bdc3-4b66-9254-53d16264d83a button.colab-df-convert');\n",
              "        buttonEl.style.display =\n",
              "          google.colab.kernel.accessAllowed ? 'block' : 'none';\n",
              "\n",
              "        async function convertToInteractive(key) {\n",
              "          const element = document.querySelector('#df-221684d2-bdc3-4b66-9254-53d16264d83a');\n",
              "          const dataTable =\n",
              "            await google.colab.kernel.invokeFunction('convertToInteractive',\n",
              "                                                     [key], {});\n",
              "          if (!dataTable) return;\n",
              "\n",
              "          const docLinkHtml = 'Like what you see? Visit the ' +\n",
              "            '<a target=\"_blank\" href=https://colab.research.google.com/notebooks/data_table.ipynb>data table notebook</a>'\n",
              "            + ' to learn more about interactive tables.';\n",
              "          element.innerHTML = '';\n",
              "          dataTable['output_type'] = 'display_data';\n",
              "          await google.colab.output.renderOutput(dataTable, element);\n",
              "          const docLink = document.createElement('div');\n",
              "          docLink.innerHTML = docLinkHtml;\n",
              "          element.appendChild(docLink);\n",
              "        }\n",
              "      </script>\n",
              "    </div>\n",
              "  </div>\n",
              "  "
            ],
            "text/plain": [
              "        id   keyword  ...                                               text target\n",
              "4284  6087  hellfire  ...  The Prophet (peace be upon him) said 'Save you...      0\n",
              "4286  6090  hellfire  ...  The Prophet (peace be upon him) said 'Save you...      0\n",
              "4292  6097  hellfire  ...  The Prophet (peace be upon him) said 'Save you...      1\n",
              "4304  6111  hellfire  ...  The Prophet (peace be upon him) said 'Save you...      0\n",
              "4309  6118  hellfire  ...  The Prophet (peace be upon him) said 'Save you...      0\n",
              "4318  6132  hellfire  ...  The Prophet (peace be upon him) said 'Save you...      1\n",
              "\n",
              "[6 rows x 5 columns]"
            ]
          },
          "metadata": {},
          "execution_count": 13
        }
      ]
    },
    {
      "cell_type": "markdown",
      "metadata": {
        "id": "539phqxO1rtm"
      },
      "source": [
        "#2. Data Cleaning\n",
        "\n",
        "- Text cleaning: Removing non-alphabetic character (emoji, punctuation, hashtag, etc), lowering the text, remove http link \n",
        "- Remove duplicated tweets in the training set \n",
        "- Fill null values of the features [keyword] and [location] with ' '\n",
        "- Add keyword at the end of the text for disaster tweet \n",
        "- Removing stopwords, Contracting, and Lemmatizing (Tokenization) the tweet"
      ]
    },
    {
      "cell_type": "markdown",
      "source": [
        "##***Text Cleaning***"
      ],
      "metadata": {
        "id": "xUy8hj5iD5Qm"
      }
    },
    {
      "cell_type": "code",
      "source": [
        "for i in range(len(train_csv)):\n",
        "  train_csv['text'][i] = re.sub('http[s]?://\\S+', '', train_csv['text'][i])\n",
        "  train_csv['text'][i] = train_csv['text'][i].lower()\n",
        "  train_csv['text'][i] = re.sub(\"[^a-zA-Z]\",\" \",train_csv['text'][i])\n",
        "  train_csv['text'][i] = re.sub(' +', ' ',train_csv['text'][i])\n",
        "\n",
        "  train_csv['keyword'][i] = re.sub('http[s]?://\\S+', '', str(train_csv['keyword'][i]))\n",
        "  train_csv['keyword'][i] = train_csv['keyword'][i].lower()\n",
        "  train_csv['keyword'][i] = re.sub(\"[^a-zA-Z]\",\" \",train_csv['keyword'][i])\n",
        "  train_csv['keyword'][i] = re.sub(' +', ' ',train_csv['keyword'][i])"
      ],
      "metadata": {
        "id": "1zhrI4ehpCuW"
      },
      "execution_count": null,
      "outputs": []
    },
    {
      "cell_type": "markdown",
      "source": [
        "##***Remove duplicated tweets in the training set***\n",
        "\n",
        "1056 Duplicated tweets in the training data \n",
        "<br>Those duplicated tweets consist of 325 different tweets. \n",
        "<br>Some of them have identical text but different embedded links. Since we are not considering http links in a tweet, we will mark those as duplicated. \n",
        "<br>Furthermore, to avoid confusion in the model training phase, these duplicated tweets will be deleted from the training data. \n",
        "<br>\n",
        "<br>33 tweets from the test are also duplicated\n",
        "<br>However, we are not going to delete the one in the test set because we need the full dataset to submit to kaggle. "
      ],
      "metadata": {
        "id": "Cm73QOuLej2R"
      }
    },
    {
      "cell_type": "code",
      "source": [
        "s = train_csv['text'].value_counts() \n",
        "s = s.to_frame(name='ct')\n",
        "s = s['ct'].loc[s['ct']>1]\n",
        "s"
      ],
      "metadata": {
        "colab": {
          "base_uri": "https://localhost:8080/"
        },
        "id": "FyKZj53uD99w",
        "outputId": "ae559ed2-bad5-4f26-a422-b6b88ebad028"
      },
      "execution_count": null,
      "outputs": [
        {
          "output_type": "execute_result",
          "data": {
            "text/plain": [
              "watch this airport get swallowed up by a sandstorm in under a minute                                          24\n",
              "wreckage conclusively confirmed as from mh malaysia pm investigators and the families of those who were       20\n",
              "families to sue over legionnaires more than families affected by the fatal outbreak of legionnaires disea     19\n",
              " hot funtenna hijacking computers to send data as sound waves black hat prebreak best                         17\n",
              "christian attacked by muslims at the temple mount after waving israeli flag via pamela geller                 15\n",
              "                                                                                                              ..\n",
              "why are you engulfed by low self image take the quiz                                                           2\n",
              " killed in two simultaneous rail crash as acute floods derail the two trains india mumbai                      2\n",
              "rt notexplained the only known image of infamous hijacker d b cooper                                           2\n",
              "governor weighs parole for california school bus hijacker                                                      2\n",
              "warne shocked over australia s epic collapse at trent bridge johannesburg aug ani legendary australian         2\n",
              "Name: ct, Length: 325, dtype: int64"
            ]
          },
          "metadata": {},
          "execution_count": 15
        }
      ]
    },
    {
      "cell_type": "code",
      "source": [
        "#Number of duplicated \n",
        "print('Number of duplicated tweet: ',sum(s))\n",
        "print('Number of unique duplicated tweet : ', len(set(s.index)))"
      ],
      "metadata": {
        "colab": {
          "base_uri": "https://localhost:8080/"
        },
        "id": "dDgi2rmCAi_B",
        "outputId": "4c762f8c-e393-4c6c-c286-3b2f114e3592"
      },
      "execution_count": null,
      "outputs": [
        {
          "output_type": "stream",
          "name": "stdout",
          "text": [
            "Number of duplicated tweet:  1056\n",
            "Number of unique duplicated tweet :  325\n"
          ]
        }
      ]
    },
    {
      "cell_type": "code",
      "source": [
        "s = train_csv['text'].value_counts() \n",
        "s = s.to_frame(name='ct')\n",
        "s = s['ct'].loc[s['ct']>1]\n",
        "d = set(s.index)\n",
        "train_text=[]\n",
        "y_train_full = []\n",
        "keyword_train = []\n",
        "for i in range(len(train_csv)):  \n",
        "  if train_csv['text'].iloc[i] not in d:\n",
        "    #print(train_csv['text'].iloc[i])\n",
        "    train_text.append(train_csv['text'][i].strip())\n",
        "    y_train_full.append(train_csv['target'][i])\n",
        "    keyword_train.append(train_csv['keyword'][i])"
      ],
      "metadata": {
        "id": "7F3FP7Q1QD62"
      },
      "execution_count": null,
      "outputs": []
    },
    {
      "cell_type": "markdown",
      "source": [
        "##***Fill null values of the features [keyword] and [location] with ''***"
      ],
      "metadata": {
        "id": "qQMSY9bvx-6F"
      }
    },
    {
      "cell_type": "code",
      "execution_count": null,
      "metadata": {
        "id": "41x50NmzzUWb"
      },
      "outputs": [],
      "source": [
        "train_csv[\"keyword\"].fillna('', inplace = True)\n",
        "train_csv[\"location\"].fillna('', inplace = True)\n",
        "test_csv[\"keyword\"].fillna('', inplace = True)\n",
        "test_csv[\"location\"].fillna('', inplace = True)"
      ]
    },
    {
      "cell_type": "markdown",
      "source": [
        "##***Add keyword at the beginning of the text for disaster tweet***\n",
        "<br>\n",
        "Purpose: To emphasize keyword for a good indicator of disaster tweet\n"
      ],
      "metadata": {
        "id": "gVsjIrFYyL7q"
      }
    },
    {
      "cell_type": "code",
      "execution_count": null,
      "metadata": {
        "id": "ERiirpII0CRh"
      },
      "outputs": [],
      "source": [
        "#to \"convert\" string into HTML format \n",
        "from html.parser import HTMLParser \n",
        "html_parser = HTMLParser()"
      ]
    },
    {
      "cell_type": "code",
      "execution_count": null,
      "metadata": {
        "id": "6_FnKdab0nRZ"
      },
      "outputs": [],
      "source": [
        "# preparing new column for \"cleaned tweet\" placeholder \n",
        "\n",
        "train_text = html_parser.unescape(train_text)\n",
        "test_text = test_csv['text'].copy().apply(lambda x: html_parser.unescape(x))"
      ]
    },
    {
      "cell_type": "code",
      "execution_count": null,
      "metadata": {
        "id": "cbO8d3Ro0qy4"
      },
      "outputs": [],
      "source": [
        "#add keyword at the beginning of tweet if target = 1\n",
        "\n",
        "for i in range(len(train_text)):\n",
        "  if y_train_full[i] == 1: \n",
        "    train_text[i] = str(keyword_train[i]) + ' ' + train_text[i]\n",
        "\n",
        "#train_text"
      ]
    },
    {
      "cell_type": "code",
      "execution_count": null,
      "metadata": {
        "colab": {
          "base_uri": "https://localhost:8080/"
        },
        "id": "ZfSxNcl-0uu2",
        "outputId": "503d80d3-ea06-4fa4-b3f4-9f1e4357d76c"
      },
      "outputs": [
        {
          "output_type": "execute_result",
          "data": {
            "text/plain": [
              "0                      Just happened a terrible car crash\n",
              "1        Heard about #earthquake is different cities, ...\n",
              "2        there is a forest fire at spot pond, geese ar...\n",
              "3                Apocalypse lighting. #Spokane #wildfires\n",
              "4           Typhoon Soudelor kills 28 in China and Taiwan\n",
              "                              ...                        \n",
              "3258     EARTHQUAKE SAFETY LOS ANGELES ÛÒ SAFETY FAST...\n",
              "3259     Storm in RI worse than last hurricane. My cit...\n",
              "3260     Green Line derailment in Chicago http://t.co/...\n",
              "3261     MEG issues Hazardous Weather Outlook (HWO) ht...\n",
              "3262     #CityofCalgary has activated its Municipal Em...\n",
              "Name: text, Length: 3263, dtype: object"
            ]
          },
          "metadata": {},
          "execution_count": 22
        }
      ],
      "source": [
        "#do the same for the test set \n",
        "#but since test csv does not have target we will just add the keyword regardless the target \n",
        "for i in range(len(test_text)):\n",
        "    test_text[i] = str(test_csv['keyword'][i]) + ' ' + test_csv['text'][i] \n",
        " \n",
        "test_text"
      ]
    },
    {
      "cell_type": "markdown",
      "source": [
        "##***Removing stopwords, Lemmatizing (Tokenization), and contracting the tweet*** \n",
        "\n",
        "Tokenization: converting the text from a set of symbols to a sequence of\n",
        "word/tokens"
      ],
      "metadata": {
        "id": "bcMdWRYRyyDO"
      }
    },
    {
      "cell_type": "code",
      "execution_count": null,
      "metadata": {
        "colab": {
          "base_uri": "https://localhost:8080/"
        },
        "id": "TGqXeo0uCdg4",
        "outputId": "a0f89cc4-319e-4dd1-ba10-1434424041a3"
      },
      "outputs": [
        {
          "output_type": "stream",
          "name": "stdout",
          "text": [
            "Collecting contractions\n",
            "  Downloading contractions-0.0.58-py2.py3-none-any.whl (8.0 kB)\n",
            "Collecting textsearch>=0.0.21\n",
            "  Downloading textsearch-0.0.21-py2.py3-none-any.whl (7.5 kB)\n",
            "Collecting pyahocorasick\n",
            "  Downloading pyahocorasick-1.4.2.tar.gz (321 kB)\n",
            "\u001b[K     |████████████████████████████████| 321 kB 4.9 MB/s \n",
            "\u001b[?25hCollecting anyascii\n",
            "  Downloading anyascii-0.3.0-py3-none-any.whl (284 kB)\n",
            "\u001b[K     |████████████████████████████████| 284 kB 49.3 MB/s \n",
            "\u001b[?25hBuilding wheels for collected packages: pyahocorasick\n",
            "  Building wheel for pyahocorasick (setup.py) ... \u001b[?25l\u001b[?25hdone\n",
            "  Created wheel for pyahocorasick: filename=pyahocorasick-1.4.2-cp37-cp37m-linux_x86_64.whl size=85434 sha256=4b006d9358f83f13082279c2c6bdfe96b78be6e706a1a4b0f2ed2eff2580a54e\n",
            "  Stored in directory: /root/.cache/pip/wheels/25/19/a6/8f363d9939162782bb8439d886469756271abc01f76fbd790f\n",
            "Successfully built pyahocorasick\n",
            "Installing collected packages: pyahocorasick, anyascii, textsearch, contractions\n",
            "Successfully installed anyascii-0.3.0 contractions-0.0.58 pyahocorasick-1.4.2 textsearch-0.0.21\n"
          ]
        }
      ],
      "source": [
        "#fixing the contraction text \n",
        "#you're = you are \n",
        "!pip install contractions "
      ]
    },
    {
      "cell_type": "code",
      "execution_count": null,
      "metadata": {
        "id": "boDjtR_pDDX8"
      },
      "outputs": [],
      "source": [
        "import contractions \n",
        "for i,text in enumerate(train_text):\n",
        "  #print(i)\n",
        "  train_text[i] = contractions.fix(train_text[i])\n",
        "\n",
        "for i in range(len(test_text)):\n",
        "  test_text[i] = contractions.fix(test_text[i])"
      ]
    },
    {
      "cell_type": "code",
      "execution_count": null,
      "metadata": {
        "colab": {
          "base_uri": "https://localhost:8080/"
        },
        "id": "TpRvue3ySPbz",
        "outputId": "e0248f2a-0bd8-4a24-d0ed-ebc3173b5415"
      },
      "outputs": [
        {
          "output_type": "stream",
          "name": "stdout",
          "text": [
            "[nltk_data] Downloading package stopwords to /root/nltk_data...\n",
            "[nltk_data]   Unzipping corpora/stopwords.zip.\n",
            "[nltk_data] Downloading package wordnet to /root/nltk_data...\n",
            "[nltk_data]   Unzipping corpora/wordnet.zip.\n"
          ]
        }
      ],
      "source": [
        "#lemmatizing the word :\n",
        "\n",
        "import nltk #natural language tool kit \n",
        "nltk.download('stopwords')\n",
        "nltk.download('wordnet')\n",
        "\n",
        "from nltk.corpus import stopwords #['i', 'me', 'my', 'myself', 'we', 'our', 'ours', 'ourselves', 'you', \"you're\", \"you've\", ... \n",
        "from nltk.stem import WordNetLemmatizer\n",
        "stemmer = WordNetLemmatizer()\n",
        "stop_word = stopwords.words('english')"
      ]
    },
    {
      "cell_type": "code",
      "execution_count": null,
      "metadata": {
        "id": "YDNwbYDCbGLy"
      },
      "outputs": [],
      "source": [
        "#processing the training set \n",
        "\n",
        "for i,text in enumerate(train_text):\n",
        "  lst=[]\n",
        "  vector = text.split()\n",
        "  for word in vector: \n",
        "    if word not in stop_word and len(word)>3:\n",
        "      lst.append(stemmer.lemmatize(word,pos=\"v\"))\n",
        "  train_text[i]=' '.join(lst)\n",
        "    \n",
        "#[^a-zA-Z] means any character that IS NOT a-z OR A-Z \n",
        "#substitute it with nothing a.k.a remove it \n",
        "#train_text"
      ]
    },
    {
      "cell_type": "code",
      "execution_count": null,
      "metadata": {
        "colab": {
          "base_uri": "https://localhost:8080/"
        },
        "id": "ze4p9hirCGGe",
        "outputId": "2005fe08-f53e-441a-edcf-edc5716cc7d1"
      },
      "outputs": [
        {
          "output_type": "stream",
          "name": "stdout",
          "text": [
            "0                                happen terrible crash\n",
            "1    hear earthquake different cities stay safe eve...\n",
            "2    forest fire spot pond geese flee across street...\n",
            "3                   apocalypse light spokane wildfires\n",
            "4                   typhoon soudelor kill china taiwan\n",
            "5                                     shake earthquake\n",
            "6     would probably still show life arsenal yesterday\n",
            "7                                                     \n",
            "8                                                 nice\n",
            "9                                                 fuck\n",
            "Name: text, dtype: object\n"
          ]
        }
      ],
      "source": [
        "#Processing the test set \n",
        "for i,text in enumerate(test_text):\n",
        "  test_text[i] = re.sub('http[s]?://\\S+', '', test_text[i])\n",
        "  test_text[i] = test_text[i].lower()\n",
        "  test_text[i] = re.sub(\"[^a-zA-Z]\",\" \",test_text[i])\n",
        "  test_text[i] = re.sub(' +', ' ',test_text[i])\n",
        "  vector = test_text[i].split()\n",
        "  lst=[]\n",
        "  for word in vector:     \n",
        "    if word not in stop_word and len(word)>3:\n",
        "      lst.append(stemmer.lemmatize(word,pos=\"v\"))\n",
        "  test_text[i]=' '.join(lst)\n",
        "    \n",
        "\n",
        "#[^a-zA-Z] means any character that IS NOT a-z OR A-Z\n",
        "#substitute it with nothing a.k.a remove it \n",
        "print(test_text[0:10])"
      ]
    },
    {
      "cell_type": "code",
      "execution_count": null,
      "metadata": {
        "id": "FtIc7ccgu9EB"
      },
      "outputs": [],
      "source": [
        "def cleaner(tweet):\n",
        "  # Acronyms and miswritten words\n",
        "  tweet = re.sub(r\"Typhoon-Devastated\", \"typhoon devastated\", tweet)\n",
        "  tweet = re.sub(r\"TyphoonDevastated\", \"typhoon devastated\", tweet)\n",
        "  tweet = re.sub(r\"typhoondevastated\", \"typhoon devastated\", tweet)\n",
        "  tweet = re.sub(r\"MH370\", \"Malaysia Airlines Flight\", tweet)\n",
        "  tweet = re.sub(r\"MH\", \"Malaysia Airlines Flight\", tweet)\n",
        "  tweet = re.sub(r\"mh370\", \"Malaysia Airlines Flight\", tweet)\n",
        "  tweet = re.sub(r\"year-old\", \"years old\", tweet)\n",
        "  tweet = re.sub(r\"yearold\", \"years old\", tweet)\n",
        "  tweet = re.sub(r\"yr old\", \"years old\", tweet)\n",
        "  tweet = re.sub(r\"PKK\", \"Kurdistan Workers Party\", tweet)\n",
        "  tweet = re.sub(r\"MP\", \"madhya pradesh\", tweet)\n",
        "  tweet = re.sub(r\"rly\", \"railway\", tweet)\n",
        "  tweet = re.sub(r\"CDT\", \"Central Daylight Time\", tweet)\n",
        "  tweet = re.sub(r\"sensorsenso\", \"sensor senso\", tweet)\n",
        "  tweet = re.sub(r\"pm\", \"\", tweet)\n",
        "  tweet = re.sub(r\"PM\", \"\", tweet)\n",
        "  tweet = re.sub(r\"nan\", \" \", tweet)\n",
        "  tweet = re.sub(r\"terrorismturn\", \"terrorism turn\", tweet)\n",
        "  tweet = re.sub(r\"epicente\", \"epicenter\", tweet)\n",
        "  tweet = re.sub(r\"epicenterr\", \"epicenter\", tweet)\n",
        "  tweet = re.sub(r\"WAwildfire\", \"Washington Wildfire\", tweet)\n",
        "  tweet = re.sub(r\"prebreak\", \"pre break\", tweet)\n",
        "  tweet = re.sub(r\"nowplaying\", \"now playing\", tweet)\n",
        "  tweet = re.sub(r\"RT\", \"retweet\", tweet)\n",
        "  tweet = re.sub(r\"EbolaOutbreak\", \"Ebola Outbreak\", tweet)\n",
        "  tweet = re.sub(r\"LondonFire\", \"London Fire\", tweet)\n",
        "  tweet = re.sub(r\"IDFire\", \"Idaho Fire\", tweet)\n",
        "  tweet = re.sub(r\"withBioterrorism&use\", \"with Bioterrorism & use\", tweet)\n",
        "  tweet = re.sub(r\"NASAHurricane\", \"NASA Hurricane\", tweet)\n",
        "  tweet = re.sub(r\"withweapons\", \"with weapons\", tweet)\n",
        "  tweet = re.sub(r\"NuclearPower\", \"Nuclear Power\", tweet)\n",
        "  tweet = re.sub(r\"WhiteTerrorism\", \"White Terrorism\", tweet)\n",
        "  tweet = re.sub(r\"MyanmarFlood\", \"Myanmar Flood\", tweet)\n",
        "  tweet = re.sub(r\"ExtremeWeather\", \"Extreme Weather\", tweet)\n",
        "\n",
        "  return tweet"
      ]
    },
    {
      "cell_type": "code",
      "execution_count": null,
      "metadata": {
        "id": "JdpU7d0zvB0x"
      },
      "outputs": [],
      "source": [
        "#for the training set \n",
        "for k,text in enumerate(train_text):\n",
        "  train_text[k] = cleaner(text)\n",
        "  \n",
        "#for the test set \n",
        "for k,text in enumerate(test_text):\n",
        "  test_text[k] = cleaner(text)"
      ]
    },
    {
      "cell_type": "code",
      "execution_count": null,
      "metadata": {
        "id": "JaSeOjt1PqHn"
      },
      "outputs": [],
      "source": [
        "#combined the cleaned tweet to the dataframe \n",
        "#train_csv['cleaned']=train_text \n",
        "test_csv['cleaned']=test_text"
      ]
    },
    {
      "cell_type": "markdown",
      "source": [
        "#3. Vectorization of the Training and Test Data \n",
        "\n",
        "Vectorization is a way to transform our charater test and training set into numerical measure. This process is important because the targeted machine learning model that we will use later only accept numerical input instead of character. We are using **bag-of-words** model to simplify the word representation of each tweet. Therefore, each tweet is represented as the bag (multiset) of its words, disregarding grammar and even word order but keeping multiplicity. \n",
        "\n",
        "In this project, we are going to experiment with 2 different vectorizers : \n",
        "\n",
        "1. CountVectorizer \n",
        "2. TF-IDF \n",
        "\n",
        "There are 2 type of experiments that will be conducted against each vectorizer. Below are the objectives of each experiment : \n",
        "1. To find a good combination of each vectorizing model. \n",
        "2. To find the minimum number of words needed to obtain good enough prediction "
      ],
      "metadata": {
        "id": "QMbjL3n6ofWw"
      }
    },
    {
      "cell_type": "code",
      "source": [
        "#import the required libraries\n",
        "from sklearn.tree import DecisionTreeClassifier\n",
        "from sklearn.ensemble import RandomForestClassifier\n",
        "from sklearn.svm import SVC\n",
        "from sklearn.svm import LinearSVC \n",
        "from sklearn.model_selection import GridSearchCV\n",
        "from sklearn.metrics import f1_score\n",
        "from sklearn.linear_model import Perceptron\n",
        "from sklearn.linear_model import LogisticRegression\n",
        "from sklearn.linear_model import RidgeClassifier\n",
        "from sklearn.linear_model import LinearRegression\n",
        "from xgboost import XGBClassifier\n",
        "\n",
        "from sklearn.model_selection import StratifiedKFold\n",
        "from sklearn.metrics import accuracy_score\n",
        "\n",
        "import random\n",
        "from sklearn.feature_extraction.text import CountVectorizer\n",
        "from sklearn.feature_extraction.text import TfidfVectorizer\n",
        "from sklearn.feature_extraction.text import TfidfTransformer\n",
        "from sklearn.model_selection import train_test_split"
      ],
      "metadata": {
        "id": "q0a2_INnHcn6"
      },
      "execution_count": null,
      "outputs": []
    },
    {
      "cell_type": "markdown",
      "source": [
        "##CountVectorizer \n",
        "\n",
        "CountVectorizer convert a collection of text documents to a matrix of token counts. \n",
        "1. CountVectorizer trained to find all unique word in training set \n",
        "2. For each tweet, count how many unique words from step 1 existed, mark 0 if a word does not exist \n",
        "3. The output of this process is a matrix with the size of **(**amount of tweet **,** amount of unique words in all the tweets) "
      ],
      "metadata": {
        "id": "bIWlpzaQu28l"
      }
    },
    {
      "cell_type": "code",
      "source": [
        "text = train_text\n",
        "model = CountVectorizer(ngram_range = (1, 1))\n",
        "matrix = model.fit_transform(text).toarray()\n",
        "train_out = pd.DataFrame(data = matrix, columns = model.get_feature_names())\n",
        "print(train_out.T.iloc[34:39])\n",
        "print(train_out.shape)"
      ],
      "metadata": {
        "colab": {
          "base_uri": "https://localhost:8080/"
        },
        "id": "LsKm_Mdx118W",
        "outputId": "c0777cd5-87f2-4f52-afae-0c235c6b8133"
      },
      "execution_count": null,
      "outputs": [
        {
          "output_type": "stream",
          "name": "stdout",
          "text": [
            "           0     1     2     3     4     ...  6552  6553  6554  6555  6556\n",
            "abortions     0     0     0     0     0  ...     0     0     0     0     0\n",
            "abouts        0     0     0     0     0  ...     0     0     0     0     0\n",
            "abran         0     0     0     0     0  ...     0     0     0     0     0\n",
            "absence       0     0     0     0     0  ...     0     0     0     0     0\n",
            "absolut       0     0     0     0     0  ...     0     0     0     0     0\n",
            "\n",
            "[5 rows x 6557 columns]\n",
            "(6557, 12677)\n"
          ]
        }
      ]
    },
    {
      "cell_type": "markdown",
      "source": [
        "###Finding the optimum NGram combination for CountVectorizer \n",
        "We will try a number of ngram combination against Perceptron, LogisticRegression, Decission Tree, Random Forest, and SVM model. Further exploration of the model will be done in section 4. "
      ],
      "metadata": {
        "id": "57CrtKBkklJI"
      }
    },
    {
      "cell_type": "code",
      "source": [
        "#NGram Perceptron\n",
        "nn_num = [1,2]\n",
        "for i in nn_num: \n",
        "  feature_computer = CountVectorizer(ngram_range=(i,i))\n",
        "  train_features = feature_computer.fit_transform(train_text).toarray()\n",
        "  test_features = feature_computer.transform(test_text).toarray()\n",
        "  X_train, X_val, y_train, y_val = train_test_split(train_features, y_train_full, stratify=y_train_full, test_size=0.20)\n",
        "  clf = Perceptron()\n",
        "  clf.fit(X_train, y_train)\n",
        "  #scoring \n",
        "  y_train_pred = clf.predict(X_train)\n",
        "  y_val_pred = clf.predict(X_val)\n",
        "  print(f\"Perceptron.\\tTrain:{f1_score(y_train, y_train_pred,average = 'macro'):.4f}\\tVal:{f1_score(y_val, y_val_pred,average = 'macro'):.4f}\\tNgrams:{i}\")\n"
      ],
      "metadata": {
        "colab": {
          "base_uri": "https://localhost:8080/"
        },
        "id": "i59QeLu-Pg73",
        "outputId": "324a1b02-b61e-4dc7-a560-b0c5bea6ad9d"
      },
      "execution_count": null,
      "outputs": [
        {
          "output_type": "stream",
          "name": "stdout",
          "text": [
            "Perceptron.\tTrain:0.9996\tVal:0.8800\tNgrams:1\n",
            "Perceptron.\tTrain:0.9998\tVal:0.7065\tNgrams:2\n"
          ]
        }
      ]
    },
    {
      "cell_type": "code",
      "source": [
        "#Ngram (1,2) for Perceptron\n",
        "feature_computer = CountVectorizer(ngram_range=(1,2))\n",
        "train_features = feature_computer.fit_transform(train_text).toarray()\n",
        "test_features = feature_computer.transform(test_text).toarray()\n",
        "X_train, X_val, y_train, y_val = train_test_split(train_features, y_train_full, stratify=y_train_full, test_size=0.20)\n",
        "clf = Perceptron()\n",
        "clf.fit(X_train, y_train)\n",
        "#scoring \n",
        "y_train_pred = clf.predict(X_train)\n",
        "y_val_pred = clf.predict(X_val)\n",
        "print(f\"Perceptron.\\tTrain:{f1_score(y_train, y_train_pred,average = 'macro'):.4f}\\tVal:{f1_score(y_val, y_val_pred,average = 'macro'):.4f}\\tNgrams:(1,2)\")\n"
      ],
      "metadata": {
        "colab": {
          "base_uri": "https://localhost:8080/"
        },
        "id": "f5Uc705Bw6h9",
        "outputId": "30125972-6332-4e6d-e5e0-ea944b6580f9"
      },
      "execution_count": null,
      "outputs": [
        {
          "output_type": "stream",
          "name": "stdout",
          "text": [
            "Perceptron.\tTrain:1.0000\tVal:0.8765\tNgrams:(1,2)\n"
          ]
        }
      ]
    },
    {
      "cell_type": "code",
      "source": [
        "#Deciding Ngram for DecissionTree\n",
        "nn_num = [1,2]\n",
        "for i in nn_num: \n",
        "  feature_computer = CountVectorizer(ngram_range=(i,i))\n",
        "  train_features = feature_computer.fit_transform(train_text).toarray()\n",
        "  test_features = feature_computer.transform(test_text).toarray()\n",
        "  X_train, X_val, y_train, y_val = train_test_split(train_features, y_train_full, stratify=y_train_full, test_size=0.20)\n",
        "  clf = DecisionTreeClassifier()\n",
        "  clf.fit(X_train, y_train)\n",
        "\n",
        "  #scoring \n",
        "  y_train_pred = clf.predict(X_train)\n",
        "  y_val_pred = clf.predict(X_val)\n",
        "  print(f\"DecisionTree.\\tTrain:{f1_score(y_train, y_train_pred,average = 'macro'):.4f}\\tVal:{f1_score(y_val, y_val_pred,average = 'macro'):.4f}\\tNgrams:{i}\")"
      ],
      "metadata": {
        "colab": {
          "base_uri": "https://localhost:8080/"
        },
        "id": "6G1_K9ww9lzS",
        "outputId": "064cd781-3759-401f-a691-2b2e9f4fa768"
      },
      "execution_count": null,
      "outputs": [
        {
          "output_type": "stream",
          "name": "stdout",
          "text": [
            "DecisionTree.\tTrain:1.0000\tVal:0.9612\tNgrams:1\n",
            "DecisionTree.\tTrain:0.9998\tVal:0.7022\tNgrams:2\n"
          ]
        }
      ]
    },
    {
      "cell_type": "code",
      "source": [
        "#Ngram (1,2) for DecissionTree\n",
        "feature_computer = CountVectorizer(ngram_range=(1,2))\n",
        "train_features = feature_computer.fit_transform(train_text).toarray()\n",
        "test_features = feature_computer.transform(test_text).toarray()\n",
        "X_train, X_val, y_train, y_val = train_test_split(train_features, y_train_full, stratify=y_train_full, test_size=0.20)\n",
        "clf = RandomForestClassifier()\n",
        "clf.fit(X_train, y_train)\n",
        "#scoring \n",
        "y_train_pred = clf.predict(X_train)\n",
        "y_val_pred = clf.predict(X_val)\n",
        "print(f\"DecisionTree.\\tTrain:{f1_score(y_train, y_train_pred,average = 'macro'):.4f}\\tVal:{f1_score(y_val, y_val_pred,average = 'macro'):.4f}\\tNgrams:(1,2)\")\n"
      ],
      "metadata": {
        "id": "w1nHzDpN93t9",
        "colab": {
          "base_uri": "https://localhost:8080/"
        },
        "outputId": "814ac9a5-368a-4648-fcb4-48311b36e798"
      },
      "execution_count": null,
      "outputs": [
        {
          "output_type": "stream",
          "name": "stdout",
          "text": [
            "DecisionTree.\tTrain:1.0000\tVal:0.9215\tNgrams:(1,2)\n"
          ]
        }
      ]
    },
    {
      "cell_type": "code",
      "source": [
        "#Deciding Ngram for RandomForest\n",
        "nn_num = [1,2]\n",
        "for i in nn_num: \n",
        "  feature_computer = CountVectorizer(ngram_range=(i,i))\n",
        "  train_features = feature_computer.fit_transform(train_text).toarray()\n",
        "  test_features = feature_computer.transform(test_text).toarray()\n",
        "  X_train, X_val, y_train, y_val = train_test_split(train_features, y_train_full, stratify=y_train_full, test_size=0.20)\n",
        "  clf = RandomForestClassifier()\n",
        "  clf.fit(X_train, y_train)\n",
        "\n",
        "  #scoring \n",
        "  y_train_pred = clf.predict(X_train)\n",
        "  y_val_pred = clf.predict(X_val)\n",
        "  print(f\"RandomForest.\\tTrain:{f1_score(y_train, y_train_pred,average = 'macro'):.4f}\\tVal:{f1_score(y_val, y_val_pred,average = 'macro'):.4f}\\tNgrams:{i}\")"
      ],
      "metadata": {
        "colab": {
          "base_uri": "https://localhost:8080/"
        },
        "id": "IsasRZJ6eUDM",
        "outputId": "1464d771-5b55-4ad8-d350-7540dfe712cf"
      },
      "execution_count": null,
      "outputs": [
        {
          "output_type": "stream",
          "name": "stdout",
          "text": [
            "RandomForest.\tTrain:1.0000\tVal:0.9376\tNgrams:1\n",
            "RandomForest.\tTrain:0.9996\tVal:0.6624\tNgrams:2\n"
          ]
        }
      ]
    },
    {
      "cell_type": "code",
      "source": [
        "#Ngram (1,2) for RandomForest\n",
        "feature_computer = CountVectorizer(ngram_range=(1,2))\n",
        "train_features = feature_computer.fit_transform(train_text).toarray()\n",
        "test_features = feature_computer.transform(test_text).toarray()\n",
        "X_train, X_val, y_train, y_val = train_test_split(train_features, y_train_full, stratify=y_train_full, test_size=0.20)\n",
        "clf = RandomForestClassifier()\n",
        "clf.fit(X_train, y_train)\n",
        "#scoring \n",
        "y_train_pred = clf.predict(X_train)\n",
        "y_val_pred = clf.predict(X_val)\n",
        "print(f\"RandomForest.\\tTrain:{f1_score(y_train, y_train_pred,average = 'macro'):.4f}\\tVal:{f1_score(y_val, y_val_pred,average = 'macro'):.4f}\\tNgrams:(1,2)\")\n"
      ],
      "metadata": {
        "colab": {
          "base_uri": "https://localhost:8080/"
        },
        "id": "jJmWn-dq9Vml",
        "outputId": "77ba6bdb-ca5b-4513-85fb-5aa39fbc053f"
      },
      "execution_count": null,
      "outputs": [
        {
          "output_type": "stream",
          "name": "stdout",
          "text": [
            "RandomForest.\tTrain:1.0000\tVal:0.9328\tNgrams:(1,2)\n"
          ]
        }
      ]
    },
    {
      "cell_type": "code",
      "source": [
        "#Deciding Ngram for LogisticRegression\n",
        "nn_num = [1,2]\n",
        "for i in nn_num: \n",
        "  feature_computer = CountVectorizer(ngram_range=(i,i))\n",
        "  train_features = feature_computer.fit_transform(train_text).toarray()\n",
        "  test_features = feature_computer.transform(test_text).toarray()\n",
        "  X_train, X_val, y_train, y_val = train_test_split(train_features, y_train_full, stratify=y_train_full, test_size=0.20)\n",
        "  clf = LogisticRegression()\n",
        "  clf.fit(X_train, y_train)\n",
        "\n",
        "  #scoring \n",
        "  y_train_pred = clf.predict(X_train)\n",
        "  y_val_pred = clf.predict(X_val)\n",
        "  print(f\"LogisticRegression.\\tTrain:{f1_score(y_train, y_train_pred,average = 'macro'):.4f}\\tVal:{f1_score(y_val, y_val_pred,average = 'macro'):.4f}\\tNgrams:{i}\")"
      ],
      "metadata": {
        "colab": {
          "base_uri": "https://localhost:8080/"
        },
        "id": "ZClGqz94gvl8",
        "outputId": "5e92f351-5d2b-40d8-8839-699409cfa842"
      },
      "execution_count": null,
      "outputs": [
        {
          "output_type": "stream",
          "name": "stdout",
          "text": [
            "LogisticRegression.\tTrain:0.9842\tVal:0.8950\tNgrams:1\n",
            "LogisticRegression.\tTrain:0.9932\tVal:0.6685\tNgrams:2\n"
          ]
        }
      ]
    },
    {
      "cell_type": "code",
      "source": [
        "#Ngram (1,2) for LogisticRegression\n",
        "feature_computer = CountVectorizer(ngram_range=(1,2))\n",
        "train_features = feature_computer.fit_transform(train_text).toarray()\n",
        "test_features = feature_computer.transform(test_text).toarray()\n",
        "X_train, X_val, y_train, y_val = train_test_split(train_features, y_train_full, stratify=y_train_full, test_size=0.20)\n",
        "clf = LogisticRegression()\n",
        "clf.fit(X_train, y_train)\n",
        "#scoring \n",
        "y_train_pred = clf.predict(X_train)\n",
        "y_val_pred = clf.predict(X_val)\n",
        "print(f\"LogisticRegression.\\tTrain:{f1_score(y_train, y_train_pred,average = 'macro'):.4f}\\tVal:{f1_score(y_val, y_val_pred,average = 'macro'):.4f}\\tNgrams:(1,2)\")\n"
      ],
      "metadata": {
        "colab": {
          "base_uri": "https://localhost:8080/"
        },
        "id": "u9S6LZ2T9hL7",
        "outputId": "f6576534-c1af-4f24-f9c6-941f6de353b6"
      },
      "execution_count": null,
      "outputs": [
        {
          "output_type": "stream",
          "name": "stdout",
          "text": [
            "LogisticRegression.\tTrain:0.9982\tVal:0.8793\tNgrams:(1,2)\n"
          ]
        }
      ]
    },
    {
      "cell_type": "code",
      "source": [
        "#Deciding Ngram for SVC\n",
        "nn_num = [1,2]\n",
        "for i in nn_num: \n",
        "  feature_computer = CountVectorizer(ngram_range=(i,i))\n",
        "  train_features = feature_computer.fit_transform(train_text).toarray()\n",
        "  test_features = feature_computer.transform(test_text).toarray()\n",
        "  X_train, X_val, y_train, y_val = train_test_split(train_features, y_train_full, stratify=y_train_full, test_size=0.20)\n",
        "  clf = SVC()\n",
        "  clf.fit(X_train, y_train)\n",
        "\n",
        "  #scoring \n",
        "  y_train_pred = clf.predict(X_train)\n",
        "  y_val_pred = clf.predict(X_val)\n",
        "  print(f\"SVC.\\tTrain:{f1_score(y_train, y_train_pred,average = 'macro'):.4f}\\tVal:{f1_score(y_val, y_val_pred,average = 'macro'):.4f}\\tNgrams:{i}\")"
      ],
      "metadata": {
        "colab": {
          "base_uri": "https://localhost:8080/"
        },
        "id": "QnnfQoFc-JqF",
        "outputId": "0fddaf25-ae54-4181-b0b4-091c575393ca"
      },
      "execution_count": null,
      "outputs": [
        {
          "output_type": "stream",
          "name": "stdout",
          "text": [
            "SVC.\tTrain:0.9852\tVal:0.8973\tNgrams:1\n",
            "SVC.\tTrain:0.9641\tVal:0.6830\tNgrams:2\n"
          ]
        }
      ]
    },
    {
      "cell_type": "code",
      "source": [
        "#Ngram (1,2) for SVC\n",
        "feature_computer = CountVectorizer(ngram_range=(1,2))\n",
        "train_features = feature_computer.fit_transform(train_text).toarray()\n",
        "test_features = feature_computer.transform(test_text).toarray()\n",
        "X_train, X_val, y_train, y_val = train_test_split(train_features, y_train_full, stratify=y_train_full, test_size=0.20)\n",
        "clf = SVC()\n",
        "clf.fit(X_train, y_train)\n",
        "#scoring \n",
        "y_train_pred = clf.predict(X_train)\n",
        "y_val_pred = clf.predict(X_val)\n",
        "print(f\"SVC.\\tTrain:{f1_score(y_train, y_train_pred,average = 'macro'):.4f}\\tVal:{f1_score(y_val, y_val_pred,average = 'macro'):.4f}\\tNgrams:(1,2)\")\n"
      ],
      "metadata": {
        "id": "FAOK35aG-OmE",
        "colab": {
          "base_uri": "https://localhost:8080/"
        },
        "outputId": "06152e51-8530-40d4-f3f3-fe5baed23c67"
      },
      "execution_count": null,
      "outputs": [
        {
          "output_type": "stream",
          "name": "stdout",
          "text": [
            "SVC.\tTrain:0.9812\tVal:0.8630\tNgrams:(1,2)\n"
          ]
        }
      ]
    },
    {
      "cell_type": "markdown",
      "source": [
        "###Count Vectorizer - Number of words \n",
        "From the previous NGram experiment, ngram = 1 works best for all the model. Therefore, from this point onwards we will continue with ngram = 1 as one of the parameter. \n",
        "\n",
        "In this part, our goal is to determine the minimum number of words needed to obtain good enough prediction for each model "
      ],
      "metadata": {
        "id": "ydSYDb11iPX7"
      }
    },
    {
      "cell_type": "code",
      "source": [
        "nword_exp = {'model': ['model'], 'val':[0], 'train':[0], 'nword':[0]}\n",
        "nword_exp = pd.DataFrame.from_dict(nword_exp)"
      ],
      "metadata": {
        "id": "en_NB1vhS31B"
      },
      "execution_count": null,
      "outputs": []
    },
    {
      "cell_type": "code",
      "source": [
        "nword_exp_det = {'model': ['model'], 'val':[0], 'train':[0], 'nword':[0]}\n",
        "nword_exp_det = pd.DataFrame.from_dict(nword_exp_det)"
      ],
      "metadata": {
        "id": "8fYGSeTqVuV0"
      },
      "execution_count": null,
      "outputs": []
    },
    {
      "cell_type": "code",
      "source": [
        "#Finding the smallest number using perceptron\n",
        "num = [250, 500, 750, 1000, 1250, 1500, 2000, 3000, 5000, 7000, 9000, 12000 ]\n",
        "score_tr = []\n",
        "score_val = []\n",
        "for i in num: \n",
        "  feature_computer = CountVectorizer(binary = True, max_features= i)\n",
        "  train_features = feature_computer.fit_transform(train_text)\n",
        "  train_features = train_features.toarray()\n",
        "  test_features = feature_computer.transform(test_text)\n",
        "  test_features = test_features.toarray()\n",
        "  X_train, X_val, y_train, y_val = train_test_split(train_features, y_train_full, stratify=y_train_full, test_size=0.20)\n",
        "  clf = Perceptron()\n",
        "  clf.fit(X_train, y_train)\n",
        "  #scoring \n",
        "  y_train_pred = clf.predict(X_train)\n",
        "  y_val_pred = clf.predict(X_val)\n",
        "  print(f\"Perceptron.\\tTrain:{f1_score(y_train, y_train_pred,average = 'macro'):.4f}\\tVal:{f1_score(y_val, y_val_pred,average = 'macro'):.4f}\\tNumword:{i}\")\n",
        "  score_tr.append(f1_score(y_train, y_train_pred,average = 'macro'))\n",
        "  score_val.append(f1_score(y_val, y_val_pred,average = 'macro'))\n",
        "  nword_exp = nword_exp.append({'model': 'Perceptron', 'val':f1_score(y_val, y_val_pred,average = 'macro'), 'train':f1_score(y_train, y_train_pred,average = 'macro'), 'nword':i},ignore_index=True)\n",
        "\n",
        "idx = score_val.index(max(score_val))\n",
        "nword_exp_det = nword_exp_det.append({'model': 'Perceptron', 'val':score_val[idx], 'train':score_tr[idx], 'nword':num[idx]},ignore_index=True)"
      ],
      "metadata": {
        "colab": {
          "base_uri": "https://localhost:8080/"
        },
        "id": "sQWGcuzpR6jC",
        "outputId": "c11fe5b8-b454-43b4-d5d9-423e4e5bcb29"
      },
      "execution_count": null,
      "outputs": [
        {
          "output_type": "stream",
          "name": "stdout",
          "text": [
            "Perceptron.\tTrain:0.7180\tVal:0.6832\tNumword:250\n",
            "Perceptron.\tTrain:0.7619\tVal:0.7255\tNumword:500\n",
            "Perceptron.\tTrain:0.7845\tVal:0.7256\tNumword:750\n",
            "Perceptron.\tTrain:0.8259\tVal:0.7532\tNumword:1000\n",
            "Perceptron.\tTrain:0.8634\tVal:0.7350\tNumword:1250\n",
            "Perceptron.\tTrain:0.8844\tVal:0.7273\tNumword:1500\n",
            "Perceptron.\tTrain:0.8844\tVal:0.6917\tNumword:2000\n",
            "Perceptron.\tTrain:0.9556\tVal:0.7159\tNumword:3000\n",
            "Perceptron.\tTrain:0.9278\tVal:0.7179\tNumword:5000\n",
            "Perceptron.\tTrain:0.9883\tVal:0.7150\tNumword:7000\n",
            "Perceptron.\tTrain:0.9846\tVal:0.7091\tNumword:9000\n",
            "Perceptron.\tTrain:0.9942\tVal:0.7446\tNumword:12000\n"
          ]
        }
      ]
    },
    {
      "cell_type": "code",
      "source": [
        "#Finding the smallest number using LogisticRegression\n",
        "num = [250, 500, 750, 1000, 1250, 1500, 2000, 3000, 5000, 7000, 9000, 12000 ]\n",
        "score_tr = []\n",
        "score_val = []\n",
        "for i in num: \n",
        "  feature_computer = CountVectorizer(binary = True, max_features= i)\n",
        "  train_features = feature_computer.fit_transform(train_text)\n",
        "  train_features = train_features.toarray()\n",
        "  test_features = feature_computer.transform(test_text)\n",
        "  test_features = test_features.toarray()\n",
        "  X_train, X_val, y_train, y_val = train_test_split(train_features, y_train_full, stratify=y_train_full, test_size=0.20)\n",
        "  clf = LogisticRegression()\n",
        "  clf.fit(X_train, y_train)\n",
        "  #scoring \n",
        "  y_train_pred = clf.predict(X_train)\n",
        "  y_val_pred = clf.predict(X_val)\n",
        "  print(f\"LogisticRegression.\\tTrain:{f1_score(y_train, y_train_pred,average = 'macro'):.4f}\\tVal:{f1_score(y_val, y_val_pred,average = 'macro'):.4f}\\tNumword:{i}\")\n",
        "  score_tr.append(f1_score(y_train, y_train_pred,average = 'macro'))\n",
        "  score_val.append(f1_score(y_val, y_val_pred,average = 'macro'))\n",
        "  nword_exp = nword_exp.append({'model': 'LogisticRegression', 'val':f1_score(y_val, y_val_pred,average = 'macro'), 'train':f1_score(y_train, y_train_pred,average = 'macro'), 'nword':i},ignore_index=True)\n",
        "\n",
        "idx = score_val.index(max(score_val))\n",
        "nword_exp_det = nword_exp_det.append({'model': 'LogisticRegression', 'val':score_val[idx], 'train':score_tr[idx], 'nword':num[idx]},ignore_index=True)"
      ],
      "metadata": {
        "colab": {
          "base_uri": "https://localhost:8080/"
        },
        "id": "Lg3ge4hkUM6n",
        "outputId": "d0616ea7-41f1-4bb4-90f0-5dfc55f7409e"
      },
      "execution_count": null,
      "outputs": [
        {
          "output_type": "stream",
          "name": "stdout",
          "text": [
            "LogisticRegression.\tTrain:0.7500\tVal:0.7433\tNumword:250\n",
            "LogisticRegression.\tTrain:0.8042\tVal:0.7473\tNumword:500\n",
            "LogisticRegression.\tTrain:0.8264\tVal:0.7722\tNumword:750\n",
            "LogisticRegression.\tTrain:0.8495\tVal:0.7579\tNumword:1000\n",
            "LogisticRegression.\tTrain:0.8495\tVal:0.7686\tNumword:1250\n",
            "LogisticRegression.\tTrain:0.8604\tVal:0.7724\tNumword:1500\n",
            "LogisticRegression.\tTrain:0.8800\tVal:0.7796\tNumword:2000\n",
            "LogisticRegression.\tTrain:0.8955\tVal:0.7833\tNumword:3000\n",
            "LogisticRegression.\tTrain:0.9198\tVal:0.7571\tNumword:5000\n",
            "LogisticRegression.\tTrain:0.9282\tVal:0.7974\tNumword:7000\n",
            "LogisticRegression.\tTrain:0.9441\tVal:0.7492\tNumword:9000\n",
            "LogisticRegression.\tTrain:0.9498\tVal:0.7814\tNumword:12000\n"
          ]
        }
      ]
    },
    {
      "cell_type": "code",
      "source": [
        "#Finding the smallest number using DecisionTreeClassifier\n",
        "num = [250, 500, 750, 1000, 1250, 1500, 2000, 3000, 5000, 7000, 9000, 12000 ]\n",
        "score_tr = []\n",
        "score_val = []\n",
        "for i in num: \n",
        "  feature_computer = CountVectorizer(binary = True, max_features= i)\n",
        "  train_features = feature_computer.fit_transform(train_text)\n",
        "  train_features = train_features.toarray()\n",
        "  test_features = feature_computer.transform(test_text)\n",
        "  test_features = test_features.toarray()\n",
        "  X_train, X_val, y_train, y_val = train_test_split(train_features, y_train_full, stratify=y_train_full, test_size=0.20)\n",
        "  clf = DecisionTreeClassifier()\n",
        "  clf.fit(X_train, y_train)\n",
        "  #scoring \n",
        "  y_train_pred = clf.predict(X_train)\n",
        "  y_val_pred = clf.predict(X_val)\n",
        "  print(f\"DecisionTree.\\tTrain:{f1_score(y_train, y_train_pred,average = 'macro'):.4f}\\tVal:{f1_score(y_val, y_val_pred,average = 'macro'):.4f}\\tNumword:{i}\")\n",
        "  score_tr.append(f1_score(y_train, y_train_pred,average = 'macro'))\n",
        "  score_val.append(f1_score(y_val, y_val_pred,average = 'macro'))\n",
        "  nword_exp = nword_exp.append({'model': 'DecisionTree', 'val':f1_score(y_val, y_val_pred,average = 'macro'), 'train':f1_score(y_train, y_train_pred,average = 'macro'), 'nword':i},ignore_index=True)\n",
        "\n",
        "idx = score_val.index(max(score_val))\n",
        "nword_exp_det = nword_exp_det.append({'model': 'DecisionTree', 'val':score_val[idx], 'train':score_tr[idx], 'nword':num[idx]},ignore_index=True)"
      ],
      "metadata": {
        "colab": {
          "base_uri": "https://localhost:8080/"
        },
        "id": "sVyAzr46f27o",
        "outputId": "8d4e72c0-2948-465a-86f5-d8f15e606297"
      },
      "execution_count": null,
      "outputs": [
        {
          "output_type": "stream",
          "name": "stdout",
          "text": [
            "DecisionTree.\tTrain:0.9057\tVal:0.6811\tNumword:250\n",
            "DecisionTree.\tTrain:0.9649\tVal:0.7006\tNumword:500\n",
            "DecisionTree.\tTrain:0.9758\tVal:0.7210\tNumword:750\n",
            "DecisionTree.\tTrain:0.9824\tVal:0.7141\tNumword:1000\n",
            "DecisionTree.\tTrain:0.9846\tVal:0.6948\tNumword:1250\n",
            "DecisionTree.\tTrain:0.9882\tVal:0.6924\tNumword:1500\n",
            "DecisionTree.\tTrain:0.9890\tVal:0.7136\tNumword:2000\n",
            "DecisionTree.\tTrain:0.9916\tVal:0.6997\tNumword:3000\n",
            "DecisionTree.\tTrain:0.9938\tVal:0.7055\tNumword:5000\n",
            "DecisionTree.\tTrain:0.9960\tVal:0.7209\tNumword:7000\n",
            "DecisionTree.\tTrain:0.9974\tVal:0.7357\tNumword:9000\n",
            "DecisionTree.\tTrain:0.9986\tVal:0.7214\tNumword:12000\n"
          ]
        }
      ]
    },
    {
      "cell_type": "code",
      "source": [
        "#Finding the smallest number using RandomForestClassifier\n",
        "num = [250, 500, 750, 1000, 1250, 1500, 2000, 3000, 5000] \n",
        "score_tr = []\n",
        "score_val = []\n",
        "for i in num: \n",
        "  feature_computer = CountVectorizer(binary = True, max_features= i)\n",
        "  train_features = feature_computer.fit_transform(train_text)\n",
        "  train_features = train_features.toarray()\n",
        "  test_features = feature_computer.transform(test_text)\n",
        "  test_features = test_features.toarray()\n",
        "  X_train, X_val, y_train, y_val = train_test_split(train_features, y_train_full, stratify=y_train_full, test_size=0.20)\n",
        "  clf = RandomForestClassifier()\n",
        "  clf.fit(X_train, y_train)\n",
        "  #scoring \n",
        "  y_train_pred = clf.predict(X_train)\n",
        "  y_val_pred = clf.predict(X_val)\n",
        "  print(f\"RandomForest.\\tTrain:{f1_score(y_train, y_train_pred,average = 'macro'):.4f}\\tVal:{f1_score(y_val, y_val_pred,average = 'macro'):.4f}\\tNumword:{i}\")\n",
        "  score_tr.append(f1_score(y_train, y_train_pred,average = 'macro'))\n",
        "  score_val.append(f1_score(y_val, y_val_pred,average = 'macro'))\n",
        "  nword_exp = nword_exp.append({'model': 'RandomForest', 'val':f1_score(y_val, y_val_pred,average = 'macro'), 'train':f1_score(y_train, y_train_pred,average = 'macro'), 'nword':i},ignore_index=True)\n",
        "\n",
        "idx = score_val.index(max(score_val))\n",
        "nword_exp_det = nword_exp_det.append({'model': 'RandomForest', 'val':score_val[idx], 'train':score_tr[idx], 'nword':num[idx]},ignore_index=True)"
      ],
      "metadata": {
        "colab": {
          "base_uri": "https://localhost:8080/"
        },
        "id": "seKUsWa2gKUK",
        "outputId": "94135f6e-f271-4d0c-c01d-3b010c40f282"
      },
      "execution_count": null,
      "outputs": [
        {
          "output_type": "stream",
          "name": "stdout",
          "text": [
            "RandomForest.\tTrain:0.9070\tVal:0.7294\tNumword:250\n",
            "RandomForest.\tTrain:0.9677\tVal:0.7341\tNumword:500\n",
            "RandomForest.\tTrain:0.9787\tVal:0.7390\tNumword:750\n",
            "RandomForest.\tTrain:0.9819\tVal:0.7573\tNumword:1000\n",
            "RandomForest.\tTrain:0.9857\tVal:0.7537\tNumword:1250\n",
            "RandomForest.\tTrain:0.9885\tVal:0.7471\tNumword:1500\n",
            "RandomForest.\tTrain:0.9900\tVal:0.7803\tNumword:2000\n",
            "RandomForest.\tTrain:0.9922\tVal:0.7585\tNumword:3000\n",
            "RandomForest.\tTrain:0.9938\tVal:0.7385\tNumword:5000\n"
          ]
        }
      ]
    },
    {
      "cell_type": "code",
      "source": [
        "#Finding the smallest number using SVC\n",
        "num = [250, 500, 750, 1000, 1250, 1500, 2000, 3000, 5000] \n",
        "score_tr = []\n",
        "score_val = []\n",
        "for i in num: \n",
        "  feature_computer = CountVectorizer(binary = True, max_features= i)\n",
        "  train_features = feature_computer.fit_transform(train_text)\n",
        "  train_features = train_features.toarray()\n",
        "  test_features = feature_computer.transform(test_text)\n",
        "  test_features = test_features.toarray()\n",
        "  X_train, X_val, y_train, y_val = train_test_split(train_features, y_train_full, stratify=y_train_full, test_size=0.20)\n",
        "  clf = SVC()\n",
        "  clf.fit(X_train, y_train)\n",
        "  #scoring \n",
        "  y_train_pred = clf.predict(X_train)\n",
        "  y_val_pred = clf.predict(X_val)\n",
        "  print(f\"SVC.\\tTrain:{f1_score(y_train, y_train_pred,average = 'macro'):.4f}\\tVal:{f1_score(y_val, y_val_pred,average = 'macro'):.4f}\\tNumword:{i}\")\n",
        "  score_tr.append(f1_score(y_train, y_train_pred,average = 'macro'))\n",
        "  score_val.append(f1_score(y_val, y_val_pred,average = 'macro'))\n",
        "  nword_exp = nword_exp.append({'model': 'SVC', 'vabl':f1_score(y_val, y_val_pred,average = 'macro'), 'train':f1_score(y_train, y_train_pred,average = 'macro'), 'nword':i},ignore_index=True)\n",
        "\n",
        "idx = score_val.index(max(score_val))\n",
        "nword_exp_det = nword_exp_det.append({'model': 'SVC', 'val':score_val[idx], 'train':score_tr[idx], 'nword':num[idx]},ignore_index=True)"
      ],
      "metadata": {
        "colab": {
          "base_uri": "https://localhost:8080/"
        },
        "id": "qfjTTQ2AgUEw",
        "outputId": "4d68861f-6390-40dd-8567-74674b719317"
      },
      "execution_count": null,
      "outputs": [
        {
          "output_type": "stream",
          "name": "stdout",
          "text": [
            "SVC.\tTrain:0.8388\tVal:0.7373\tNumword:250\n",
            "SVC.\tTrain:0.8939\tVal:0.7627\tNumword:500\n",
            "SVC.\tTrain:0.9082\tVal:0.7495\tNumword:750\n",
            "SVC.\tTrain:0.9144\tVal:0.7891\tNumword:1000\n",
            "SVC.\tTrain:0.9200\tVal:0.7941\tNumword:1250\n",
            "SVC.\tTrain:0.9221\tVal:0.7747\tNumword:1500\n",
            "SVC.\tTrain:0.9306\tVal:0.7615\tNumword:2000\n",
            "SVC.\tTrain:0.9338\tVal:0.7970\tNumword:3000\n",
            "SVC.\tTrain:0.9408\tVal:0.7838\tNumword:5000\n"
          ]
        }
      ]
    },
    {
      "cell_type": "markdown",
      "source": [
        "####Number of word conclusion \n",
        "Based on the experiment, we can conclude that we don't need all unique word in our training data set to make a model well trained. Some model may need more than others, but that number is still smaller than all unique word exist."
      ],
      "metadata": {
        "id": "fSDDBvPGXtjQ"
      }
    },
    {
      "cell_type": "code",
      "source": [
        "nword_exp_det[1:6]"
      ],
      "metadata": {
        "colab": {
          "base_uri": "https://localhost:8080/",
          "height": 206
        },
        "id": "k3y1VtOXYTA8",
        "outputId": "82945dab-9b57-4367-e586-672bdc8e43a8"
      },
      "execution_count": null,
      "outputs": [
        {
          "output_type": "execute_result",
          "data": {
            "text/html": [
              "\n",
              "  <div id=\"df-14e770cb-7414-4f25-9674-d6ecae5fd3c9\">\n",
              "    <div class=\"colab-df-container\">\n",
              "      <div>\n",
              "<style scoped>\n",
              "    .dataframe tbody tr th:only-of-type {\n",
              "        vertical-align: middle;\n",
              "    }\n",
              "\n",
              "    .dataframe tbody tr th {\n",
              "        vertical-align: top;\n",
              "    }\n",
              "\n",
              "    .dataframe thead th {\n",
              "        text-align: right;\n",
              "    }\n",
              "</style>\n",
              "<table border=\"1\" class=\"dataframe\">\n",
              "  <thead>\n",
              "    <tr style=\"text-align: right;\">\n",
              "      <th></th>\n",
              "      <th>model</th>\n",
              "      <th>val</th>\n",
              "      <th>train</th>\n",
              "      <th>nword</th>\n",
              "    </tr>\n",
              "  </thead>\n",
              "  <tbody>\n",
              "    <tr>\n",
              "      <th>1</th>\n",
              "      <td>Perceptron</td>\n",
              "      <td>0.753245</td>\n",
              "      <td>0.825878</td>\n",
              "      <td>1000</td>\n",
              "    </tr>\n",
              "    <tr>\n",
              "      <th>2</th>\n",
              "      <td>LogisticRegression</td>\n",
              "      <td>0.797399</td>\n",
              "      <td>0.928171</td>\n",
              "      <td>7000</td>\n",
              "    </tr>\n",
              "    <tr>\n",
              "      <th>3</th>\n",
              "      <td>DecisionTree</td>\n",
              "      <td>0.735694</td>\n",
              "      <td>0.997415</td>\n",
              "      <td>9000</td>\n",
              "    </tr>\n",
              "    <tr>\n",
              "      <th>4</th>\n",
              "      <td>RandomForest</td>\n",
              "      <td>0.780256</td>\n",
              "      <td>0.990047</td>\n",
              "      <td>2000</td>\n",
              "    </tr>\n",
              "    <tr>\n",
              "      <th>5</th>\n",
              "      <td>SVC</td>\n",
              "      <td>0.796995</td>\n",
              "      <td>0.933811</td>\n",
              "      <td>3000</td>\n",
              "    </tr>\n",
              "  </tbody>\n",
              "</table>\n",
              "</div>\n",
              "      <button class=\"colab-df-convert\" onclick=\"convertToInteractive('df-14e770cb-7414-4f25-9674-d6ecae5fd3c9')\"\n",
              "              title=\"Convert this dataframe to an interactive table.\"\n",
              "              style=\"display:none;\">\n",
              "        \n",
              "  <svg xmlns=\"http://www.w3.org/2000/svg\" height=\"24px\"viewBox=\"0 0 24 24\"\n",
              "       width=\"24px\">\n",
              "    <path d=\"M0 0h24v24H0V0z\" fill=\"none\"/>\n",
              "    <path d=\"M18.56 5.44l.94 2.06.94-2.06 2.06-.94-2.06-.94-.94-2.06-.94 2.06-2.06.94zm-11 1L8.5 8.5l.94-2.06 2.06-.94-2.06-.94L8.5 2.5l-.94 2.06-2.06.94zm10 10l.94 2.06.94-2.06 2.06-.94-2.06-.94-.94-2.06-.94 2.06-2.06.94z\"/><path d=\"M17.41 7.96l-1.37-1.37c-.4-.4-.92-.59-1.43-.59-.52 0-1.04.2-1.43.59L10.3 9.45l-7.72 7.72c-.78.78-.78 2.05 0 2.83L4 21.41c.39.39.9.59 1.41.59.51 0 1.02-.2 1.41-.59l7.78-7.78 2.81-2.81c.8-.78.8-2.07 0-2.86zM5.41 20L4 18.59l7.72-7.72 1.47 1.35L5.41 20z\"/>\n",
              "  </svg>\n",
              "      </button>\n",
              "      \n",
              "  <style>\n",
              "    .colab-df-container {\n",
              "      display:flex;\n",
              "      flex-wrap:wrap;\n",
              "      gap: 12px;\n",
              "    }\n",
              "\n",
              "    .colab-df-convert {\n",
              "      background-color: #E8F0FE;\n",
              "      border: none;\n",
              "      border-radius: 50%;\n",
              "      cursor: pointer;\n",
              "      display: none;\n",
              "      fill: #1967D2;\n",
              "      height: 32px;\n",
              "      padding: 0 0 0 0;\n",
              "      width: 32px;\n",
              "    }\n",
              "\n",
              "    .colab-df-convert:hover {\n",
              "      background-color: #E2EBFA;\n",
              "      box-shadow: 0px 1px 2px rgba(60, 64, 67, 0.3), 0px 1px 3px 1px rgba(60, 64, 67, 0.15);\n",
              "      fill: #174EA6;\n",
              "    }\n",
              "\n",
              "    [theme=dark] .colab-df-convert {\n",
              "      background-color: #3B4455;\n",
              "      fill: #D2E3FC;\n",
              "    }\n",
              "\n",
              "    [theme=dark] .colab-df-convert:hover {\n",
              "      background-color: #434B5C;\n",
              "      box-shadow: 0px 1px 3px 1px rgba(0, 0, 0, 0.15);\n",
              "      filter: drop-shadow(0px 1px 2px rgba(0, 0, 0, 0.3));\n",
              "      fill: #FFFFFF;\n",
              "    }\n",
              "  </style>\n",
              "\n",
              "      <script>\n",
              "        const buttonEl =\n",
              "          document.querySelector('#df-14e770cb-7414-4f25-9674-d6ecae5fd3c9 button.colab-df-convert');\n",
              "        buttonEl.style.display =\n",
              "          google.colab.kernel.accessAllowed ? 'block' : 'none';\n",
              "\n",
              "        async function convertToInteractive(key) {\n",
              "          const element = document.querySelector('#df-14e770cb-7414-4f25-9674-d6ecae5fd3c9');\n",
              "          const dataTable =\n",
              "            await google.colab.kernel.invokeFunction('convertToInteractive',\n",
              "                                                     [key], {});\n",
              "          if (!dataTable) return;\n",
              "\n",
              "          const docLinkHtml = 'Like what you see? Visit the ' +\n",
              "            '<a target=\"_blank\" href=https://colab.research.google.com/notebooks/data_table.ipynb>data table notebook</a>'\n",
              "            + ' to learn more about interactive tables.';\n",
              "          element.innerHTML = '';\n",
              "          dataTable['output_type'] = 'display_data';\n",
              "          await google.colab.output.renderOutput(dataTable, element);\n",
              "          const docLink = document.createElement('div');\n",
              "          docLink.innerHTML = docLinkHtml;\n",
              "          element.appendChild(docLink);\n",
              "        }\n",
              "      </script>\n",
              "    </div>\n",
              "  </div>\n",
              "  "
            ],
            "text/plain": [
              "                model       val     train  nword\n",
              "1          Perceptron  0.753245  0.825878   1000\n",
              "2  LogisticRegression  0.797399  0.928171   7000\n",
              "3        DecisionTree  0.735694  0.997415   9000\n",
              "4        RandomForest  0.780256  0.990047   2000\n",
              "5                 SVC  0.796995  0.933811   3000"
            ]
          },
          "metadata": {},
          "execution_count": 219
        }
      ]
    },
    {
      "cell_type": "markdown",
      "metadata": {
        "id": "P14I6e_9ZlB9"
      },
      "source": [
        "##TF-IDF\n",
        "\n",
        "TF-IDF which means Term Frequency and Inverse Document Frequency, is a scoring measure intended to reflect how relevant a term is in a given document. This method assigns a value to a term according to its importance in a document scaled by its importance across all documents, which mathematically eliminates naturally occurring words in the English language, and selects words that are more descriptive"
      ]
    },
    {
      "cell_type": "markdown",
      "source": [
        "We are going to see how the first tweet is being vectorized with tfIdf"
      ],
      "metadata": {
        "id": "7UQqpKKMwjM2"
      }
    },
    {
      "cell_type": "code",
      "source": [
        "tfIdfTransformer = TfidfTransformer(use_idf=True)\n",
        "countVectorizer = CountVectorizer(binary = True)\n",
        "wordCount = countVectorizer.fit_transform(train_text)\n",
        "newTfIdf = tfIdfTransformer.fit_transform(wordCount)\n",
        "df = pd.DataFrame(newTfIdf[0].T.todense(), index=countVectorizer.get_feature_names(), columns=[\"TF-IDF\"])\n",
        "df = df.sort_values('TF-IDF', ascending=False)\n",
        "print (df.head(10))"
      ],
      "metadata": {
        "colab": {
          "base_uri": "https://localhost:8080/"
        },
        "id": "8_eDRFL7vw0F",
        "outputId": "0ca47165-af10-4b3b-bf96-d05a21872721"
      },
      "execution_count": null,
      "outputs": [
        {
          "output_type": "stream",
          "name": "stdout",
          "text": [
            "              TF-IDF\n",
            "deeds       0.523326\n",
            "allah       0.472299\n",
            "forgive     0.472299\n",
            "reason      0.388813\n",
            "earthquake  0.358916\n",
            "pbohanna    0.000000\n",
            "photoshop   0.000000\n",
            "phoenix     0.000000\n",
            "phone       0.000000\n",
            "photo       0.000000\n"
          ]
        }
      ]
    },
    {
      "cell_type": "code",
      "source": [
        "#Perceptron with tfIdfTransformer\n",
        "tfIdfTransformer = TfidfTransformer(use_idf=True)\n",
        "countVectorizer = CountVectorizer(binary = True)\n",
        "wordCount = countVectorizer.fit_transform(train_text)\n",
        "newTfIdf = tfIdfTransformer.fit_transform(wordCount)\n",
        "train_features = newTfIdf.toarray()\n",
        "\n",
        "X_train, X_val, y_train, y_val = train_test_split(train_features, y_train_full, stratify=y_train_full, test_size=0.20)\n",
        "clf = Perceptron()\n",
        "clf.fit(X_train, y_train)\n",
        "#scoring \n",
        "y_train_pred = clf.predict(X_train)\n",
        "y_val_pred = clf.predict(X_val)\n",
        "print(f\"Perceptron with tfIdfTransformer.\\tTrain:{f1_score(y_train, y_train_pred,average = 'macro'):.4f}\\tVal:{f1_score(y_val, y_val_pred,average = 'macro'):.4f}\")"
      ],
      "metadata": {
        "colab": {
          "base_uri": "https://localhost:8080/"
        },
        "id": "Dyb4DkCsyIIt",
        "outputId": "c318b6b9-01cd-4548-90bc-4e9021a37173"
      },
      "execution_count": null,
      "outputs": [
        {
          "output_type": "stream",
          "name": "stdout",
          "text": [
            "Perceptron with tfIdfTransformer.\tTrain:0.9966\tVal:0.7325\n"
          ]
        }
      ]
    },
    {
      "cell_type": "code",
      "source": [
        "#LogisticRegression with tfIdfTransformer\n",
        "tfIdfTransformer = TfidfTransformer(use_idf=True)\n",
        "countVectorizer = CountVectorizer(binary = True)\n",
        "wordCount = countVectorizer.fit_transform(train_text)\n",
        "newTfIdf = tfIdfTransformer.fit_transform(wordCount)\n",
        "train_features = newTfIdf.toarray()\n",
        "\n",
        "X_train, X_val, y_train, y_val = train_test_split(train_features, y_train_full, stratify=y_train_full, test_size=0.20)\n",
        "clf = LogisticRegression()\n",
        "clf.fit(X_train, y_train)\n",
        "#scoring \n",
        "y_train_pred = clf.predict(X_train)\n",
        "y_val_pred = clf.predict(X_val)\n",
        "print(f\"LogisticRegression with tfIdfTransformer.\\tTrain:{f1_score(y_train, y_train_pred,average = 'macro'):.4f}\\tVal:{f1_score(y_val, y_val_pred,average = 'macro'):.4f}\")"
      ],
      "metadata": {
        "colab": {
          "base_uri": "https://localhost:8080/"
        },
        "id": "F8Irom46qA9_",
        "outputId": "4d4a72cd-cdc6-47bf-fb6d-97d95f754de3"
      },
      "execution_count": null,
      "outputs": [
        {
          "output_type": "stream",
          "name": "stdout",
          "text": [
            "LogisticRegression with tfIdfTransformer.\tTrain:0.8700\tVal:0.7458\n"
          ]
        }
      ]
    },
    {
      "cell_type": "code",
      "source": [
        "#DecissionTree with tfIdfTransformer\n",
        "tfIdfTransformer = TfidfTransformer(use_idf=True)\n",
        "countVectorizer = CountVectorizer(binary = True)\n",
        "wordCount = countVectorizer.fit_transform(train_text)\n",
        "newTfIdf = tfIdfTransformer.fit_transform(wordCount)\n",
        "train_features = newTfIdf.toarray()\n",
        "\n",
        "X_train, X_val, y_train, y_val = train_test_split(train_features, y_train_full, stratify=y_train_full, test_size=0.20)\n",
        "clf = DecisionTreeClassifier()\n",
        "clf.fit(X_train, y_train)\n",
        "#scoring \n",
        "y_train_pred = clf.predict(X_train)\n",
        "y_val_pred = clf.predict(X_val)\n",
        "print(f\"DecissionTree with tfIdfTransformer.\\tTrain:{f1_score(y_train, y_train_pred,average = 'macro'):.4f}\\tVal:{f1_score(y_val, y_val_pred,average = 'macro'):.4f}\")"
      ],
      "metadata": {
        "colab": {
          "base_uri": "https://localhost:8080/"
        },
        "id": "lbJ7dXZlvSgi",
        "outputId": "912a29df-225d-4238-ebe9-a3a7755a4d60"
      },
      "execution_count": null,
      "outputs": [
        {
          "output_type": "stream",
          "name": "stdout",
          "text": [
            "DecissionTree with tfIdfTransformer.\tTrain:0.9994\tVal:0.7325\n"
          ]
        }
      ]
    },
    {
      "cell_type": "code",
      "source": [
        "#RandomForest with tfIdfTransformer\n",
        "tfIdfTransformer = TfidfTransformer(use_idf=True)\n",
        "countVectorizer = CountVectorizer(binary = True)\n",
        "wordCount = countVectorizer.fit_transform(train_text)\n",
        "newTfIdf = tfIdfTransformer.fit_transform(wordCount)\n",
        "train_features = newTfIdf.toarray()\n",
        "\n",
        "X_train, X_val, y_train, y_val = train_test_split(train_features, y_train_full, stratify=y_train_full, test_size=0.20)\n",
        "clf = RandomForestClassifier()\n",
        "clf.fit(X_train, y_train)\n",
        "#scoring \n",
        "y_train_pred = clf.predict(X_train)\n",
        "y_val_pred = clf.predict(X_val)\n",
        "print(f\"RandomForest with tfIdfTransformer.\\tTrain:{f1_score(y_train, y_train_pred,average = 'macro'):.4f}\\tVal:{f1_score(y_val, y_val_pred,average = 'macro'):.4f}\")"
      ],
      "metadata": {
        "colab": {
          "base_uri": "https://localhost:8080/"
        },
        "id": "syls2Z9CzqY_",
        "outputId": "97f5d27e-f2d0-4003-ecb1-e882cec3e7ff"
      },
      "execution_count": null,
      "outputs": [
        {
          "output_type": "stream",
          "name": "stdout",
          "text": [
            "RandomForest with tfIdfTransformer.\tTrain:0.9990\tVal:0.7724\n"
          ]
        }
      ]
    },
    {
      "cell_type": "code",
      "source": [
        "#SVC with tfIdfTransformer\n",
        "tfIdfTransformer = TfidfTransformer(use_idf=True)\n",
        "countVectorizer = CountVectorizer(binary = True)\n",
        "wordCount = countVectorizer.fit_transform(train_text)\n",
        "newTfIdf = tfIdfTransformer.fit_transform(wordCount)\n",
        "train_features = newTfIdf.toarray()\n",
        "\n",
        "X_train, X_val, y_train, y_val = train_test_split(train_features, y_train_full, stratify=y_train_full, test_size=0.20)\n",
        "clf = SVC()\n",
        "clf.fit(X_train, y_train)\n",
        "#scoring \n",
        "y_train_pred = clf.predict(X_train)\n",
        "y_val_pred = clf.predict(X_val)\n",
        "print(f\"SVC with tfIdfTransformer.\\tTrain:{f1_score(y_train, y_train_pred,average = 'macro'):.4f}\\tVal:{f1_score(y_val, y_val_pred,average = 'macro'):.4f}\")"
      ],
      "metadata": {
        "colab": {
          "base_uri": "https://localhost:8080/"
        },
        "id": "pkGkMBOEz_Fx",
        "outputId": "7dc6a0ea-7b1e-44b6-d5d1-5e2f57086d3c"
      },
      "execution_count": null,
      "outputs": [
        {
          "output_type": "stream",
          "name": "stdout",
          "text": [
            "SVC with tfIdfTransformer.\tTrain:0.9742\tVal:0.7541\n"
          ]
        }
      ]
    },
    {
      "cell_type": "markdown",
      "source": [
        "##Performance Comparison of CountVectorizer and Tf-Idf\n",
        "After experimenting with both methods, for natural disaster tweet problem CountVectorizer provides better transformation based on the accuracy score yielded for the validation score. This can happen because Tf-Idf weighs down common words that often appear in the document. Therefore, important keywords may be marked with smaller scores which lead to misinterpretation by our model. \n"
      ],
      "metadata": {
        "id": "3NtqWdCT0ewG"
      }
    },
    {
      "cell_type": "markdown",
      "metadata": {
        "id": "UzW3YpQC4g7W"
      },
      "source": [
        "#4. Hyper Parameter Tuning for the Machine Learning Model\n",
        "\n",
        "Hyper Parameter tuning will be done using GridSearch on each model. Moreover, 5-fold cross validation will also be applied on the training data to minimize the sampling bias. "
      ]
    },
    {
      "cell_type": "markdown",
      "metadata": {
        "id": "1vjBZYh8CAvW"
      },
      "source": [
        "##Perceptron\n"
      ]
    },
    {
      "cell_type": "code",
      "source": [
        "feature_computer = CountVectorizer(binary = True, max_features= 1000)\n",
        "train_features = feature_computer.fit_transform(train_text)\n",
        "train_features = train_features.toarray()\n",
        "test_features = feature_computer.transform(test_text)\n",
        "test_features = test_features.toarray()"
      ],
      "metadata": {
        "id": "qmfOaD4QhRB2"
      },
      "execution_count": null,
      "outputs": []
    },
    {
      "cell_type": "code",
      "source": [
        "##Perceptron KFold and Grid Search \n",
        "param_grid = {'alpha': [0.01, 0.03, 0.1, 0.3, 1,3],\n",
        "\t\t\t\t\t\t\t\t\t\t\t\t   'max_iter': [5, 20, 50]}\n",
        "\n",
        "j=1\n",
        "xtr={}\n",
        "xvl={}\n",
        "ytr={}\n",
        "yvl={}\n",
        "pred={}\n",
        "kf = StratifiedKFold(n_splits=5,random_state=1,shuffle=True)\n",
        "for train_index,test_index in kf.split(train_features,y_train_full):\n",
        "     print('\\n{} of kfold {}'.format(j,kf.n_splits))\n",
        "     xtr[j]=[]\n",
        "     xvl[j]=[]\n",
        "     ytr[j]=[]\n",
        "     yvl[j]=[]\n",
        "     pred[j]=[]\n",
        "     for i in range(len(train_features)):\n",
        "       if i in train_index: \n",
        "         xtr[j].append(train_features[i])\n",
        "       if i in test_index: \n",
        "         xvl[j].append(train_features[i])\n",
        "     \n",
        "     for i in range(len(y_train_full)):\n",
        "       if i in train_index: \n",
        "         #print(i)\n",
        "         ytr[j].append(y_train_full[i])\n",
        "       if i in test_index: \n",
        "         yvl[j].append(y_train_full[i])\n",
        "     clf = Perceptron()\n",
        "     clf_v1 = GridSearchCV(clf, param_grid, n_jobs= -1, cv = 5)\n",
        "     clf_v1.fit(xtr[j], ytr[j])\n",
        "     print(clf_v1.best_params_)\n",
        "     pred[j]=clf_v1.predict(xvl[j])\n",
        "     print('accuracy_score',accuracy_score(yvl[j],pred[j]))\n",
        "     j+=1"
      ],
      "metadata": {
        "colab": {
          "base_uri": "https://localhost:8080/"
        },
        "id": "4Nqsd40Vk2Fs",
        "outputId": "a2e7e7bc-1dac-4315-e5b1-dbc282029654"
      },
      "execution_count": null,
      "outputs": [
        {
          "output_type": "stream",
          "name": "stdout",
          "text": [
            "\n",
            "1 of kfold 5\n",
            "{'alpha': 0.01, 'max_iter': 5}\n",
            "accuracy_score 0.7774390243902439\n",
            "\n",
            "2 of kfold 5\n",
            "{'alpha': 0.01, 'max_iter': 5}\n",
            "accuracy_score 0.711890243902439\n",
            "\n",
            "3 of kfold 5\n",
            "{'alpha': 0.01, 'max_iter': 5}\n",
            "accuracy_score 0.6727688787185355\n",
            "\n",
            "4 of kfold 5\n",
            "{'alpha': 0.01, 'max_iter': 20}\n",
            "accuracy_score 0.7444698703279939\n",
            "\n",
            "5 of kfold 5\n",
            "{'alpha': 0.01, 'max_iter': 50}\n",
            "accuracy_score 0.7589626239511823\n"
          ]
        }
      ]
    },
    {
      "cell_type": "code",
      "source": [
        "clf = Perceptron(alpha=0.01, max_iter=5)\n",
        "clf.fit(xtr[1], ytr[1])\n",
        "predicted_test = clf.predict(test_features)\n",
        "predict_class = np.round(predicted_test)\n",
        "\n",
        "#download the file\n",
        "X_test_id = test_csv[\"id\"].values.astype(\"Int32\") # these are needed to build output prediction files if you want to submit your predictions to the Kaggle website (see format of the submission)\n",
        "download_predictions_to_file(X_test_id, predict_class) # download the prediction file"
      ],
      "metadata": {
        "colab": {
          "base_uri": "https://localhost:8080/",
          "height": 17
        },
        "id": "jGOJVJG9qCO3",
        "outputId": "158705d7-b99c-4b07-e77a-c4bf89b5ccec"
      },
      "execution_count": null,
      "outputs": [
        {
          "output_type": "display_data",
          "data": {
            "application/javascript": [
              "\n",
              "    async function download(id, filename, size) {\n",
              "      if (!google.colab.kernel.accessAllowed) {\n",
              "        return;\n",
              "      }\n",
              "      const div = document.createElement('div');\n",
              "      const label = document.createElement('label');\n",
              "      label.textContent = `Downloading \"${filename}\": `;\n",
              "      div.appendChild(label);\n",
              "      const progress = document.createElement('progress');\n",
              "      progress.max = size;\n",
              "      div.appendChild(progress);\n",
              "      document.body.appendChild(div);\n",
              "\n",
              "      const buffers = [];\n",
              "      let downloaded = 0;\n",
              "\n",
              "      const channel = await google.colab.kernel.comms.open(id);\n",
              "      // Send a message to notify the kernel that we're ready.\n",
              "      channel.send({})\n",
              "\n",
              "      for await (const message of channel.messages) {\n",
              "        // Send a message to notify the kernel that we're ready.\n",
              "        channel.send({})\n",
              "        if (message.buffers) {\n",
              "          for (const buffer of message.buffers) {\n",
              "            buffers.push(buffer);\n",
              "            downloaded += buffer.byteLength;\n",
              "            progress.value = downloaded;\n",
              "          }\n",
              "        }\n",
              "      }\n",
              "      const blob = new Blob(buffers, {type: 'application/binary'});\n",
              "      const a = document.createElement('a');\n",
              "      a.href = window.URL.createObjectURL(blob);\n",
              "      a.download = filename;\n",
              "      div.appendChild(a);\n",
              "      a.click();\n",
              "      div.remove();\n",
              "    }\n",
              "  "
            ],
            "text/plain": [
              "<IPython.core.display.Javascript object>"
            ]
          },
          "metadata": {}
        },
        {
          "output_type": "display_data",
          "data": {
            "application/javascript": [
              "download(\"download_6ddcf24d-580f-47b6-bb4a-90ae93831b68\", \"prediction_file.csv\", 22746)"
            ],
            "text/plain": [
              "<IPython.core.display.Javascript object>"
            ]
          },
          "metadata": {}
        }
      ]
    },
    {
      "cell_type": "markdown",
      "source": [
        "##LogisticRegression"
      ],
      "metadata": {
        "id": "9Aio53H_g-QP"
      }
    },
    {
      "cell_type": "code",
      "source": [
        "feature_computer = CountVectorizer(binary = True, max_features= 7000)\n",
        "train_features = feature_computer.fit_transform(train_text)\n",
        "train_features = train_features.toarray()\n",
        "test_features = feature_computer.transform(test_text)\n",
        "test_features = test_features.toarray()"
      ],
      "metadata": {
        "id": "avb-dfJLhn3R"
      },
      "execution_count": null,
      "outputs": []
    },
    {
      "cell_type": "code",
      "source": [
        "##LogisticRegression KFold and Grid Search \n",
        "param_grid = {\n",
        "    'C': [0.1, 0.5, 1, 5, 10, 15, 20],\n",
        "    'fit_intercept': [True, False]\n",
        "}\n",
        "\n",
        "j=1\n",
        "xtr={}\n",
        "xvl={}\n",
        "ytr={}\n",
        "yvl={}\n",
        "pred={}\n",
        "kf = StratifiedKFold(n_splits=5,random_state=1,shuffle=True)\n",
        "for train_index,test_index in kf.split(train_features,y_train_full):\n",
        "     print('\\n{} of kfold {}'.format(j,kf.n_splits))\n",
        "     xtr[j]=[]\n",
        "     xvl[j]=[]\n",
        "     ytr[j]=[]\n",
        "     yvl[j]=[]\n",
        "     pred[j]=[]\n",
        "     for i in range(len(train_features)):\n",
        "       if i in train_index: \n",
        "         xtr[j].append(train_features[i])\n",
        "       if i in test_index: \n",
        "         xvl[j].append(train_features[i])\n",
        "     \n",
        "     for i in range(len(y_train_full)):\n",
        "       if i in train_index: \n",
        "         #print(i)\n",
        "         ytr[j].append(y_train_full[i])\n",
        "       if i in test_index: \n",
        "         yvl[j].append(y_train_full[i])\n",
        "     clf = LogisticRegression()\n",
        "     clf_v1 = GridSearchCV(clf, param_grid, n_jobs= -1, cv = 5)\n",
        "     clf_v1.fit(xtr[j], ytr[j])\n",
        "     print(clf_v1.best_params_)\n",
        "     pred[j]=clf_v1.predict(xvl[j])\n",
        "     print('accuracy_score',accuracy_score(yvl[j],pred[j]))\n",
        "     j+=1"
      ],
      "metadata": {
        "colab": {
          "base_uri": "https://localhost:8080/"
        },
        "id": "xja6i6hRrLGC",
        "outputId": "aba945ef-eab4-4c77-918e-543dc88b3dcd"
      },
      "execution_count": null,
      "outputs": [
        {
          "output_type": "stream",
          "name": "stdout",
          "text": [
            "\n",
            "1 of kfold 5\n",
            "{'C': 0.1, 'fit_intercept': True}\n",
            "accuracy_score 0.791920731707317\n",
            "\n",
            "2 of kfold 5\n",
            "{'C': 0.1, 'fit_intercept': True}\n",
            "accuracy_score 0.7873475609756098\n",
            "\n",
            "3 of kfold 5\n",
            "{'C': 0.1, 'fit_intercept': True}\n",
            "accuracy_score 0.7818459191456903\n",
            "\n",
            "4 of kfold 5\n",
            "{'C': 0.1, 'fit_intercept': True}\n",
            "accuracy_score 0.7734553775743707\n",
            "\n",
            "5 of kfold 5\n",
            "{'C': 0.1, 'fit_intercept': True}\n",
            "accuracy_score 0.7932875667429443\n"
          ]
        }
      ]
    },
    {
      "cell_type": "code",
      "source": [
        "clf = LogisticRegression(C=0.1, fit_intercept=True)\n",
        "clf.fit(xtr[5], ytr[5])\n",
        "predicted_test = clf.predict(test_features)\n",
        "predict_class = np.round(predicted_test)\n",
        "\n",
        "#download the file\n",
        "X_test_id = test_csv[\"id\"].values.astype(\"Int32\") # these are needed to build output prediction files if you want to submit your predictions to the Kaggle website (see format of the submission)\n",
        "download_predictions_to_file(X_test_id, predict_class) # download the prediction file"
      ],
      "metadata": {
        "colab": {
          "base_uri": "https://localhost:8080/",
          "height": 17
        },
        "id": "eIWWGAL4roMg",
        "outputId": "ce753253-b5ab-4d9f-f9e8-4b2c10b6bdce"
      },
      "execution_count": null,
      "outputs": [
        {
          "output_type": "display_data",
          "data": {
            "application/javascript": [
              "\n",
              "    async function download(id, filename, size) {\n",
              "      if (!google.colab.kernel.accessAllowed) {\n",
              "        return;\n",
              "      }\n",
              "      const div = document.createElement('div');\n",
              "      const label = document.createElement('label');\n",
              "      label.textContent = `Downloading \"${filename}\": `;\n",
              "      div.appendChild(label);\n",
              "      const progress = document.createElement('progress');\n",
              "      progress.max = size;\n",
              "      div.appendChild(progress);\n",
              "      document.body.appendChild(div);\n",
              "\n",
              "      const buffers = [];\n",
              "      let downloaded = 0;\n",
              "\n",
              "      const channel = await google.colab.kernel.comms.open(id);\n",
              "      // Send a message to notify the kernel that we're ready.\n",
              "      channel.send({})\n",
              "\n",
              "      for await (const message of channel.messages) {\n",
              "        // Send a message to notify the kernel that we're ready.\n",
              "        channel.send({})\n",
              "        if (message.buffers) {\n",
              "          for (const buffer of message.buffers) {\n",
              "            buffers.push(buffer);\n",
              "            downloaded += buffer.byteLength;\n",
              "            progress.value = downloaded;\n",
              "          }\n",
              "        }\n",
              "      }\n",
              "      const blob = new Blob(buffers, {type: 'application/binary'});\n",
              "      const a = document.createElement('a');\n",
              "      a.href = window.URL.createObjectURL(blob);\n",
              "      a.download = filename;\n",
              "      div.appendChild(a);\n",
              "      a.click();\n",
              "      div.remove();\n",
              "    }\n",
              "  "
            ],
            "text/plain": [
              "<IPython.core.display.Javascript object>"
            ]
          },
          "metadata": {}
        },
        {
          "output_type": "display_data",
          "data": {
            "application/javascript": [
              "download(\"download_48309d76-23f5-4b28-a225-839a365d5d97\", \"prediction_file.csv\", 22746)"
            ],
            "text/plain": [
              "<IPython.core.display.Javascript object>"
            ]
          },
          "metadata": {}
        }
      ]
    },
    {
      "cell_type": "markdown",
      "source": [
        "##DecissionTree "
      ],
      "metadata": {
        "id": "lCzSb_zDhDDM"
      }
    },
    {
      "cell_type": "code",
      "source": [
        "feature_computer = CountVectorizer(binary = True, max_features= 9000)\n",
        "train_features = feature_computer.fit_transform(train_text)\n",
        "train_features = train_features.toarray()\n",
        "test_features = feature_computer.transform(test_text)\n",
        "test_features = test_features.toarray()"
      ],
      "metadata": {
        "id": "A67cUpMDhrSs"
      },
      "execution_count": null,
      "outputs": []
    },
    {
      "cell_type": "code",
      "source": [
        "##DecisionTreeClassifier KFold and Grid Search \n",
        "param_grid = {'criterion':['gini','entropy'],'max_depth': [2,4,16,32]}\n",
        "\n",
        "j=1\n",
        "xtr={}\n",
        "xvl={}\n",
        "ytr={}\n",
        "yvl={}\n",
        "pred={}\n",
        "kf = StratifiedKFold(n_splits=5,random_state=1,shuffle=True)\n",
        "for train_index,test_index in kf.split(train_features,y_train_full):\n",
        "     print('\\n{} of kfold {}'.format(j,kf.n_splits))\n",
        "     xtr[j]=[]\n",
        "     xvl[j]=[]\n",
        "     ytr[j]=[]\n",
        "     yvl[j]=[]\n",
        "     pred[j]=[]\n",
        "     for i in range(len(train_features)):\n",
        "       if i in train_index: \n",
        "         xtr[j].append(train_features[i])\n",
        "       if i in test_index: \n",
        "         xvl[j].append(train_features[i])\n",
        "     \n",
        "     for i in range(len(y_train_full)):\n",
        "       if i in train_index: \n",
        "         #print(i)\n",
        "         ytr[j].append(y_train_full[i])\n",
        "       if i in test_index: \n",
        "         yvl[j].append(y_train_full[i])\n",
        "     clf = DecisionTreeClassifier()\n",
        "     clf_v1 = GridSearchCV(clf, param_grid, n_jobs= -1, cv = 5)\n",
        "     clf_v1.fit(xtr[j], ytr[j])\n",
        "     print(clf_v1.best_params_)\n",
        "     pred[j]=clf_v1.predict(xvl[j])\n",
        "     print('accuracy_score',accuracy_score(yvl[j],pred[j]))\n",
        "     j+=1"
      ],
      "metadata": {
        "colab": {
          "base_uri": "https://localhost:8080/"
        },
        "id": "wI3_tjWFz7es",
        "outputId": "01b83d2e-4201-4f23-b570-38a5674a8e87"
      },
      "execution_count": null,
      "outputs": [
        {
          "output_type": "stream",
          "name": "stdout",
          "text": [
            "\n",
            "1 of kfold 5\n",
            "{'criterion': 'gini', 'max_depth': 16}\n",
            "accuracy_score 0.711890243902439\n",
            "\n",
            "2 of kfold 5\n",
            "{'criterion': 'gini', 'max_depth': 16}\n",
            "accuracy_score 0.7088414634146342\n",
            "\n",
            "3 of kfold 5\n",
            "{'criterion': 'entropy', 'max_depth': 4}\n",
            "accuracy_score 0.6437833714721587\n",
            "\n",
            "4 of kfold 5\n",
            "{'criterion': 'entropy', 'max_depth': 16}\n",
            "accuracy_score 0.6987032799389779\n",
            "\n",
            "5 of kfold 5\n",
            "{'criterion': 'entropy', 'max_depth': 16}\n",
            "accuracy_score 0.7009916094584286\n"
          ]
        }
      ]
    },
    {
      "cell_type": "code",
      "source": [
        "clf = DecisionTreeClassifier(criterion='entropy', max_depth=16)\n",
        "clf.fit(xtr[5], ytr[5])\n",
        "predicted_test = clf.predict(test_features)\n",
        "predict_class = np.round(predicted_test)\n",
        "\n",
        "#download the file\n",
        "X_test_id = test_csv[\"id\"].values.astype(\"Int32\") # these are needed to build output prediction files if you want to submit your predictions to the Kaggle website (see format of the submission)\n",
        "download_predictions_to_file(X_test_id, predict_class) # download the prediction file"
      ],
      "metadata": {
        "colab": {
          "base_uri": "https://localhost:8080/",
          "height": 17
        },
        "id": "ku6-txsM0HbL",
        "outputId": "509f2134-6c94-4beb-cc1f-528eda52370f"
      },
      "execution_count": null,
      "outputs": [
        {
          "output_type": "display_data",
          "data": {
            "application/javascript": [
              "\n",
              "    async function download(id, filename, size) {\n",
              "      if (!google.colab.kernel.accessAllowed) {\n",
              "        return;\n",
              "      }\n",
              "      const div = document.createElement('div');\n",
              "      const label = document.createElement('label');\n",
              "      label.textContent = `Downloading \"${filename}\": `;\n",
              "      div.appendChild(label);\n",
              "      const progress = document.createElement('progress');\n",
              "      progress.max = size;\n",
              "      div.appendChild(progress);\n",
              "      document.body.appendChild(div);\n",
              "\n",
              "      const buffers = [];\n",
              "      let downloaded = 0;\n",
              "\n",
              "      const channel = await google.colab.kernel.comms.open(id);\n",
              "      // Send a message to notify the kernel that we're ready.\n",
              "      channel.send({})\n",
              "\n",
              "      for await (const message of channel.messages) {\n",
              "        // Send a message to notify the kernel that we're ready.\n",
              "        channel.send({})\n",
              "        if (message.buffers) {\n",
              "          for (const buffer of message.buffers) {\n",
              "            buffers.push(buffer);\n",
              "            downloaded += buffer.byteLength;\n",
              "            progress.value = downloaded;\n",
              "          }\n",
              "        }\n",
              "      }\n",
              "      const blob = new Blob(buffers, {type: 'application/binary'});\n",
              "      const a = document.createElement('a');\n",
              "      a.href = window.URL.createObjectURL(blob);\n",
              "      a.download = filename;\n",
              "      div.appendChild(a);\n",
              "      a.click();\n",
              "      div.remove();\n",
              "    }\n",
              "  "
            ],
            "text/plain": [
              "<IPython.core.display.Javascript object>"
            ]
          },
          "metadata": {}
        },
        {
          "output_type": "display_data",
          "data": {
            "application/javascript": [
              "download(\"download_cd1bcb19-5eb1-42f0-ac04-fab879dfa846\", \"prediction_file.csv\", 22746)"
            ],
            "text/plain": [
              "<IPython.core.display.Javascript object>"
            ]
          },
          "metadata": {}
        }
      ]
    },
    {
      "cell_type": "markdown",
      "source": [
        "## RandomForest"
      ],
      "metadata": {
        "id": "t8I8lGZ2hyIf"
      }
    },
    {
      "cell_type": "markdown",
      "source": [
        "This model will take a long time to run."
      ],
      "metadata": {
        "id": "KtmbsdazKA4O"
      }
    },
    {
      "cell_type": "code",
      "source": [
        "feature_computer = CountVectorizer(binary = True, max_features= 2000)\n",
        "train_features = feature_computer.fit_transform(train_text)\n",
        "train_features = train_features.toarray()\n",
        "test_features = feature_computer.transform(test_text)\n",
        "test_features = test_features.toarray()"
      ],
      "metadata": {
        "id": "-wfZprsW0cAQ"
      },
      "execution_count": null,
      "outputs": []
    },
    {
      "cell_type": "code",
      "source": [
        "##RandomForest KFold and Grid Search \n",
        "\n",
        "param_grid = {'bootstrap': [True, False],\n",
        " 'max_depth': [2,4,16,32, None]}\n",
        "\n",
        "j=1\n",
        "xtr={}\n",
        "xvl={}\n",
        "ytr={}\n",
        "yvl={}\n",
        "pred={}\n",
        "kf = StratifiedKFold(n_splits=3,random_state=1,shuffle=True)\n",
        "for train_index,test_index in kf.split(train_features,y_train_full):\n",
        "     print('\\n{} of kfold {}'.format(j,kf.n_splits))\n",
        "     xtr[j]=[]\n",
        "     xvl[j]=[]\n",
        "     ytr[j]=[]\n",
        "     yvl[j]=[]\n",
        "     pred[j]=[]\n",
        "     for i in range(len(train_features)):\n",
        "       if i in train_index: \n",
        "         xtr[j].append(train_features[i])\n",
        "       if i in test_index: \n",
        "         xvl[j].append(train_features[i])\n",
        "     \n",
        "     for i in range(len(y_train_full)):\n",
        "       if i in train_index: \n",
        "         #print(i)\n",
        "         ytr[j].append(y_train_full[i])\n",
        "       if i in test_index: \n",
        "         yvl[j].append(y_train_full[i])\n",
        "     clf = RandomForestClassifier()\n",
        "     clf_v1 = GridSearchCV(clf, param_grid, n_jobs= -1, cv = 5)\n",
        "     clf_v1.fit(xtr[j], ytr[j])\n",
        "     print(clf_v1.best_params_)\n",
        "     pred[j]=clf_v1.predict(xvl[j])\n",
        "     print('accuracy_score',accuracy_score(yvl[j],pred[j]))\n",
        "     j+=1"
      ],
      "metadata": {
        "colab": {
          "base_uri": "https://localhost:8080/"
        },
        "id": "oRc7KKR9bx84",
        "outputId": "2eea936c-a504-4c83-e208-cb76631a622a"
      },
      "execution_count": null,
      "outputs": [
        {
          "output_type": "stream",
          "name": "stdout",
          "text": [
            "\n",
            "1 of kfold 3\n",
            "{'bootstrap': True, 'max_depth': 32}\n",
            "accuracy_score 0.7502287282708143\n",
            "\n",
            "2 of kfold 3\n",
            "{'bootstrap': True, 'max_depth': 16}\n",
            "accuracy_score 0.6925892040256175\n",
            "\n",
            "3 of kfold 3\n",
            "{'bootstrap': True, 'max_depth': 32}\n",
            "accuracy_score 0.7446224256292906\n"
          ]
        }
      ]
    },
    {
      "cell_type": "code",
      "source": [
        "clf = RandomForestClassifier(bootstrap=True, max_depth=32)\n",
        "clf.fit(xtr[1], ytr[1])\n",
        "predicted_test = clf.predict(test_features)\n",
        "predict_class = np.round(predicted_test)\n",
        "\n",
        "#download the file\n",
        "X_test_id = test_csv[\"id\"].values.astype(\"Int32\") # these are needed to build output prediction files if you want to submit your predictions to the Kaggle website (see format of the submission)\n",
        "download_predictions_to_file(X_test_id, predict_class) # download the prediction file"
      ],
      "metadata": {
        "colab": {
          "base_uri": "https://localhost:8080/",
          "height": 17
        },
        "id": "aWy3HEuNZxH6",
        "outputId": "c5614e3b-4169-4fa4-e1ce-4bd1d1fdf4d4"
      },
      "execution_count": null,
      "outputs": [
        {
          "output_type": "display_data",
          "data": {
            "application/javascript": [
              "\n",
              "    async function download(id, filename, size) {\n",
              "      if (!google.colab.kernel.accessAllowed) {\n",
              "        return;\n",
              "      }\n",
              "      const div = document.createElement('div');\n",
              "      const label = document.createElement('label');\n",
              "      label.textContent = `Downloading \"${filename}\": `;\n",
              "      div.appendChild(label);\n",
              "      const progress = document.createElement('progress');\n",
              "      progress.max = size;\n",
              "      div.appendChild(progress);\n",
              "      document.body.appendChild(div);\n",
              "\n",
              "      const buffers = [];\n",
              "      let downloaded = 0;\n",
              "\n",
              "      const channel = await google.colab.kernel.comms.open(id);\n",
              "      // Send a message to notify the kernel that we're ready.\n",
              "      channel.send({})\n",
              "\n",
              "      for await (const message of channel.messages) {\n",
              "        // Send a message to notify the kernel that we're ready.\n",
              "        channel.send({})\n",
              "        if (message.buffers) {\n",
              "          for (const buffer of message.buffers) {\n",
              "            buffers.push(buffer);\n",
              "            downloaded += buffer.byteLength;\n",
              "            progress.value = downloaded;\n",
              "          }\n",
              "        }\n",
              "      }\n",
              "      const blob = new Blob(buffers, {type: 'application/binary'});\n",
              "      const a = document.createElement('a');\n",
              "      a.href = window.URL.createObjectURL(blob);\n",
              "      a.download = filename;\n",
              "      div.appendChild(a);\n",
              "      a.click();\n",
              "      div.remove();\n",
              "    }\n",
              "  "
            ],
            "text/plain": [
              "<IPython.core.display.Javascript object>"
            ]
          },
          "metadata": {}
        },
        {
          "output_type": "display_data",
          "data": {
            "application/javascript": [
              "download(\"download_3a760a0d-1152-4dff-a936-1c150e43c318\", \"prediction_file.csv\", 22746)"
            ],
            "text/plain": [
              "<IPython.core.display.Javascript object>"
            ]
          },
          "metadata": {}
        }
      ]
    },
    {
      "cell_type": "markdown",
      "source": [
        "##SVC"
      ],
      "metadata": {
        "id": "4late77S4ARS"
      }
    },
    {
      "cell_type": "code",
      "source": [
        "feature_computer = CountVectorizer(binary = True, max_features= 3000)\n",
        "train_features = feature_computer.fit_transform(train_text)\n",
        "train_features = train_features.toarray()\n",
        "test_features = feature_computer.transform(test_text)\n",
        "test_features = test_features.toarray()"
      ],
      "metadata": {
        "id": "-mM3luBM4Jz3"
      },
      "execution_count": null,
      "outputs": []
    },
    {
      "cell_type": "markdown",
      "source": [
        "This model will take a long time to run."
      ],
      "metadata": {
        "id": "Wcr0rdm6JuB5"
      }
    },
    {
      "cell_type": "code",
      "source": [
        "##SVC KFold and Grid Search \n",
        "\n",
        "param_grid = {'C': [0.1, 1, 10],\n",
        "              'gamma': [1, 0.1, 0.01],\n",
        "              'kernel': ['rbf','linear']}\n",
        "\n",
        "j=1\n",
        "xtr={}\n",
        "xvl={}\n",
        "ytr={}\n",
        "yvl={}\n",
        "pred={}\n",
        "kf = StratifiedKFold(n_splits=3,random_state=1,shuffle=True)\n",
        "for train_index,test_index in kf.split(train_features,y_train_full):\n",
        "     print('\\n{} of kfold {}'.format(j,kf.n_splits))\n",
        "     xtr[j]=[]\n",
        "     xvl[j]=[]\n",
        "     ytr[j]=[]\n",
        "     yvl[j]=[]\n",
        "     pred[j]=[]\n",
        "     for i in range(len(train_features)):\n",
        "       if i in train_index: \n",
        "         xtr[j].append(train_features[i])\n",
        "       if i in test_index: \n",
        "         xvl[j].append(train_features[i])\n",
        "     \n",
        "     for i in range(len(y_train_full)):\n",
        "       if i in train_index: \n",
        "         #print(i)\n",
        "         ytr[j].append(y_train_full[i])\n",
        "       if i in test_index: \n",
        "         yvl[j].append(y_train_full[i])\n",
        "     clf = SVC()\n",
        "     clf_v1 = GridSearchCV(clf, param_grid, n_jobs= -1, cv = 5)\n",
        "     clf_v1.fit(xtr[j], ytr[j])\n",
        "     print(clf_v1.best_params_)\n",
        "     pred[j]=clf_v1.predict(xvl[j])\n",
        "     print('accuracy_score',accuracy_score(yvl[j],pred[j]))\n",
        "     j+=1"
      ],
      "metadata": {
        "colab": {
          "base_uri": "https://localhost:8080/"
        },
        "id": "mOTG3KId4Ji0",
        "outputId": "8ab550dc-c366-4564-cf35-1e93aefadead"
      },
      "execution_count": null,
      "outputs": [
        {
          "output_type": "stream",
          "name": "stdout",
          "text": [
            "\n",
            "1 of kfold 3\n",
            "{'C': 1, 'gamma': 0.1, 'kernel': 'rbf'}\n",
            "accuracy_score 0.7932296431838975\n",
            "\n",
            "2 of kfold 3\n",
            "{'C': 1, 'gamma': 0.1, 'kernel': 'rbf'}\n",
            "accuracy_score 0.7854528819762122\n",
            "\n",
            "3 of kfold 3\n",
            "{'C': 1, 'gamma': 0.1, 'kernel': 'rbf'}\n",
            "accuracy_score 0.7922196796338673\n"
          ]
        }
      ]
    },
    {
      "cell_type": "code",
      "source": [
        "clf = SVC(C=1, gamma=0.1, kernel='rbf')\n",
        "clf.fit(xtr[1], ytr[1])\n",
        "predicted_test = clf.predict(test_features)\n",
        "predict_class = np.round(predicted_test)\n",
        "\n",
        "#download the file\n",
        "X_test_id = test_csv[\"id\"].values.astype(\"Int32\") # these are needed to build output prediction files if you want to submit your predictions to the Kaggle website (see format of the submission)\n",
        "download_predictions_to_file(X_test_id, predict_class) # download the prediction file"
      ],
      "metadata": {
        "colab": {
          "base_uri": "https://localhost:8080/",
          "height": 17
        },
        "id": "uSEGo9f6RfVd",
        "outputId": "c81ec792-5dd2-4ac3-a20f-901d23397c89"
      },
      "execution_count": null,
      "outputs": [
        {
          "output_type": "display_data",
          "data": {
            "application/javascript": [
              "\n",
              "    async function download(id, filename, size) {\n",
              "      if (!google.colab.kernel.accessAllowed) {\n",
              "        return;\n",
              "      }\n",
              "      const div = document.createElement('div');\n",
              "      const label = document.createElement('label');\n",
              "      label.textContent = `Downloading \"${filename}\": `;\n",
              "      div.appendChild(label);\n",
              "      const progress = document.createElement('progress');\n",
              "      progress.max = size;\n",
              "      div.appendChild(progress);\n",
              "      document.body.appendChild(div);\n",
              "\n",
              "      const buffers = [];\n",
              "      let downloaded = 0;\n",
              "\n",
              "      const channel = await google.colab.kernel.comms.open(id);\n",
              "      // Send a message to notify the kernel that we're ready.\n",
              "      channel.send({})\n",
              "\n",
              "      for await (const message of channel.messages) {\n",
              "        // Send a message to notify the kernel that we're ready.\n",
              "        channel.send({})\n",
              "        if (message.buffers) {\n",
              "          for (const buffer of message.buffers) {\n",
              "            buffers.push(buffer);\n",
              "            downloaded += buffer.byteLength;\n",
              "            progress.value = downloaded;\n",
              "          }\n",
              "        }\n",
              "      }\n",
              "      const blob = new Blob(buffers, {type: 'application/binary'});\n",
              "      const a = document.createElement('a');\n",
              "      a.href = window.URL.createObjectURL(blob);\n",
              "      a.download = filename;\n",
              "      div.appendChild(a);\n",
              "      a.click();\n",
              "      div.remove();\n",
              "    }\n",
              "  "
            ],
            "text/plain": [
              "<IPython.core.display.Javascript object>"
            ]
          },
          "metadata": {}
        },
        {
          "output_type": "display_data",
          "data": {
            "application/javascript": [
              "download(\"download_941925b6-79d0-4808-893b-19721e4243bb\", \"prediction_file.csv\", 22746)"
            ],
            "text/plain": [
              "<IPython.core.display.Javascript object>"
            ]
          },
          "metadata": {}
        }
      ]
    },
    {
      "cell_type": "markdown",
      "metadata": {
        "id": "KQEL9B0jnsy8"
      },
      "source": [
        "#5. Neural Network\n",
        "From the model that we have been experimenting, it takes quite a big number of input to train the model (>2000 variables). Beside it being computationally expensive, it also takes time. \n",
        "<br><br>\n",
        "Therefore, we would like to find an alternative model that can be trained more effectively. Looking at the input matrix, it has more zeros than the actual numerical word representation. The idea is to make the matrix more dense so the number of input can be decreased."
      ]
    },
    {
      "cell_type": "code",
      "execution_count": null,
      "metadata": {
        "colab": {
          "base_uri": "https://localhost:8080/"
        },
        "id": "np3iAmRDk66G",
        "outputId": "33e15d7d-cbee-44cd-e719-d3e2e1174d38"
      },
      "outputs": [
        {
          "output_type": "stream",
          "name": "stdout",
          "text": [
            "12680\n"
          ]
        }
      ],
      "source": [
        "#Check unique word in training set data \n",
        "import tensorflow as tf \n",
        "from keras.preprocessing.text import Tokenizer\n",
        "from keras.preprocessing.sequence import pad_sequences\n",
        "\n",
        "tokenizer = Tokenizer()\n",
        "tokenizer.fit_on_texts(train_text) \n",
        "word_index = tokenizer.word_index \n",
        "num_word = len(word_index)\n",
        "\n",
        "print(num_word)"
      ]
    },
    {
      "cell_type": "code",
      "execution_count": null,
      "metadata": {
        "id": "tNGaI2WLycV3"
      },
      "outputs": [],
      "source": [
        "train_csv_seq = tokenizer.texts_to_sequences(train_text)\n",
        "test_csv_seq = tokenizer.texts_to_sequences(test_text)"
      ]
    },
    {
      "cell_type": "code",
      "execution_count": null,
      "metadata": {
        "colab": {
          "base_uri": "https://localhost:8080/",
          "height": 300
        },
        "id": "tDIXUqFG-Ebu",
        "outputId": "d6b0b85a-0d03-4eaa-be9a-28ff05b2662d"
      },
      "outputs": [
        {
          "output_type": "execute_result",
          "data": {
            "text/html": [
              "\n",
              "  <div id=\"df-ccaf6358-50a6-4e82-8977-ae6907fcfd0a\">\n",
              "    <div class=\"colab-df-container\">\n",
              "      <div>\n",
              "<style scoped>\n",
              "    .dataframe tbody tr th:only-of-type {\n",
              "        vertical-align: middle;\n",
              "    }\n",
              "\n",
              "    .dataframe tbody tr th {\n",
              "        vertical-align: top;\n",
              "    }\n",
              "\n",
              "    .dataframe thead th {\n",
              "        text-align: right;\n",
              "    }\n",
              "</style>\n",
              "<table border=\"1\" class=\"dataframe\">\n",
              "  <thead>\n",
              "    <tr style=\"text-align: right;\">\n",
              "      <th></th>\n",
              "      <th>Lenghts</th>\n",
              "    </tr>\n",
              "  </thead>\n",
              "  <tbody>\n",
              "    <tr>\n",
              "      <th>count</th>\n",
              "      <td>6557.000000</td>\n",
              "    </tr>\n",
              "    <tr>\n",
              "      <th>mean</th>\n",
              "      <td>8.316151</td>\n",
              "    </tr>\n",
              "    <tr>\n",
              "      <th>std</th>\n",
              "      <td>3.325159</td>\n",
              "    </tr>\n",
              "    <tr>\n",
              "      <th>min</th>\n",
              "      <td>0.000000</td>\n",
              "    </tr>\n",
              "    <tr>\n",
              "      <th>25%</th>\n",
              "      <td>6.000000</td>\n",
              "    </tr>\n",
              "    <tr>\n",
              "      <th>50%</th>\n",
              "      <td>8.000000</td>\n",
              "    </tr>\n",
              "    <tr>\n",
              "      <th>75%</th>\n",
              "      <td>11.000000</td>\n",
              "    </tr>\n",
              "    <tr>\n",
              "      <th>max</th>\n",
              "      <td>22.000000</td>\n",
              "    </tr>\n",
              "  </tbody>\n",
              "</table>\n",
              "</div>\n",
              "      <button class=\"colab-df-convert\" onclick=\"convertToInteractive('df-ccaf6358-50a6-4e82-8977-ae6907fcfd0a')\"\n",
              "              title=\"Convert this dataframe to an interactive table.\"\n",
              "              style=\"display:none;\">\n",
              "        \n",
              "  <svg xmlns=\"http://www.w3.org/2000/svg\" height=\"24px\"viewBox=\"0 0 24 24\"\n",
              "       width=\"24px\">\n",
              "    <path d=\"M0 0h24v24H0V0z\" fill=\"none\"/>\n",
              "    <path d=\"M18.56 5.44l.94 2.06.94-2.06 2.06-.94-2.06-.94-.94-2.06-.94 2.06-2.06.94zm-11 1L8.5 8.5l.94-2.06 2.06-.94-2.06-.94L8.5 2.5l-.94 2.06-2.06.94zm10 10l.94 2.06.94-2.06 2.06-.94-2.06-.94-.94-2.06-.94 2.06-2.06.94z\"/><path d=\"M17.41 7.96l-1.37-1.37c-.4-.4-.92-.59-1.43-.59-.52 0-1.04.2-1.43.59L10.3 9.45l-7.72 7.72c-.78.78-.78 2.05 0 2.83L4 21.41c.39.39.9.59 1.41.59.51 0 1.02-.2 1.41-.59l7.78-7.78 2.81-2.81c.8-.78.8-2.07 0-2.86zM5.41 20L4 18.59l7.72-7.72 1.47 1.35L5.41 20z\"/>\n",
              "  </svg>\n",
              "      </button>\n",
              "      \n",
              "  <style>\n",
              "    .colab-df-container {\n",
              "      display:flex;\n",
              "      flex-wrap:wrap;\n",
              "      gap: 12px;\n",
              "    }\n",
              "\n",
              "    .colab-df-convert {\n",
              "      background-color: #E8F0FE;\n",
              "      border: none;\n",
              "      border-radius: 50%;\n",
              "      cursor: pointer;\n",
              "      display: none;\n",
              "      fill: #1967D2;\n",
              "      height: 32px;\n",
              "      padding: 0 0 0 0;\n",
              "      width: 32px;\n",
              "    }\n",
              "\n",
              "    .colab-df-convert:hover {\n",
              "      background-color: #E2EBFA;\n",
              "      box-shadow: 0px 1px 2px rgba(60, 64, 67, 0.3), 0px 1px 3px 1px rgba(60, 64, 67, 0.15);\n",
              "      fill: #174EA6;\n",
              "    }\n",
              "\n",
              "    [theme=dark] .colab-df-convert {\n",
              "      background-color: #3B4455;\n",
              "      fill: #D2E3FC;\n",
              "    }\n",
              "\n",
              "    [theme=dark] .colab-df-convert:hover {\n",
              "      background-color: #434B5C;\n",
              "      box-shadow: 0px 1px 3px 1px rgba(0, 0, 0, 0.15);\n",
              "      filter: drop-shadow(0px 1px 2px rgba(0, 0, 0, 0.3));\n",
              "      fill: #FFFFFF;\n",
              "    }\n",
              "  </style>\n",
              "\n",
              "      <script>\n",
              "        const buttonEl =\n",
              "          document.querySelector('#df-ccaf6358-50a6-4e82-8977-ae6907fcfd0a button.colab-df-convert');\n",
              "        buttonEl.style.display =\n",
              "          google.colab.kernel.accessAllowed ? 'block' : 'none';\n",
              "\n",
              "        async function convertToInteractive(key) {\n",
              "          const element = document.querySelector('#df-ccaf6358-50a6-4e82-8977-ae6907fcfd0a');\n",
              "          const dataTable =\n",
              "            await google.colab.kernel.invokeFunction('convertToInteractive',\n",
              "                                                     [key], {});\n",
              "          if (!dataTable) return;\n",
              "\n",
              "          const docLinkHtml = 'Like what you see? Visit the ' +\n",
              "            '<a target=\"_blank\" href=https://colab.research.google.com/notebooks/data_table.ipynb>data table notebook</a>'\n",
              "            + ' to learn more about interactive tables.';\n",
              "          element.innerHTML = '';\n",
              "          dataTable['output_type'] = 'display_data';\n",
              "          await google.colab.output.renderOutput(dataTable, element);\n",
              "          const docLink = document.createElement('div');\n",
              "          docLink.innerHTML = docLinkHtml;\n",
              "          element.appendChild(docLink);\n",
              "        }\n",
              "      </script>\n",
              "    </div>\n",
              "  </div>\n",
              "  "
            ],
            "text/plain": [
              "           Lenghts\n",
              "count  6557.000000\n",
              "mean      8.316151\n",
              "std       3.325159\n",
              "min       0.000000\n",
              "25%       6.000000\n",
              "50%       8.000000\n",
              "75%      11.000000\n",
              "max      22.000000"
            ]
          },
          "metadata": {},
          "execution_count": 39
        }
      ],
      "source": [
        "#but each row will have different length \n",
        "#to solve this, we will \"padd\" the sequence so every row have same number of col \n",
        "\n",
        "#1st step: figure out the max length of each row \n",
        "lengths=[]\n",
        "for k in range(len(train_csv_seq)):\n",
        "  lengths.append(len(train_csv_seq[k]))\n",
        "\n",
        "pd.DataFrame(lengths, columns=['Lenghts']).describe()\n",
        "\n",
        "#so max = 22, so let's make each row have 22 entries by adding 0 at the end of each sequence if len() < 22"
      ]
    },
    {
      "cell_type": "code",
      "execution_count": null,
      "metadata": {
        "id": "fUo-vMDi-qOA"
      },
      "outputs": [],
      "source": [
        "max_length = 22\n",
        "padding_type = 'post'\n",
        "\n",
        "train_padded = pad_sequences(train_csv_seq,maxlen=max_length,padding=padding_type)\n",
        "test_padded = pad_sequences(test_csv_seq,maxlen=max_length,padding=padding_type)"
      ]
    },
    {
      "cell_type": "code",
      "execution_count": null,
      "metadata": {
        "id": "undb8oKBou3W"
      },
      "outputs": [],
      "source": [
        "#splitting the train_csv to training and validation data \n",
        "from sklearn.model_selection import train_test_split \n",
        "\n",
        "X_train, X_val, y_train, y_val = train_test_split(train_padded, y_train_full, stratify=y_train_full, test_size=0.20,random_state=123)"
      ]
    },
    {
      "cell_type": "code",
      "execution_count": null,
      "metadata": {
        "colab": {
          "base_uri": "https://localhost:8080/"
        },
        "id": "jncOB2IOpDUE",
        "outputId": "2ef38ac4-1650-40fa-c18d-0135626d8ade"
      },
      "outputs": [
        {
          "output_type": "execute_result",
          "data": {
            "text/plain": [
              "((5245, 22), (1312, 22), 5245, 1312)"
            ]
          },
          "metadata": {},
          "execution_count": 43
        }
      ],
      "source": [
        "X_train.shape, X_val.shape, len(y_train), len(y_val)"
      ]
    },
    {
      "cell_type": "markdown",
      "metadata": {
        "id": "4AFjDzK0aIMK"
      },
      "source": [
        "##Developing the Neural Network Architecture\n"
      ]
    },
    {
      "cell_type": "code",
      "execution_count": null,
      "metadata": {
        "id": "VnQGIQ1WGlua"
      },
      "outputs": [],
      "source": [
        "import tensorflow #the backend used by Keras (there are different beckend)\n",
        "from tensorflow.keras.models import Sequential #import the type of model: sequential (e.g., MLP)\n",
        "from tensorflow.keras.layers import Input, Dense #simple linear layer\n",
        "from tensorflow.keras.utils import to_categorical # transformation for classification labels\n",
        "from keras.utils.vis_utils import plot_model\n",
        "from tensorflow.python.framework.random_seed import set_random_seed\n",
        "\n",
        "from sklearn.metrics import confusion_matrix, ConfusionMatrixDisplay\n"
      ]
    },
    {
      "cell_type": "code",
      "execution_count": null,
      "metadata": {
        "colab": {
          "base_uri": "https://localhost:8080/",
          "height": 1000
        },
        "id": "bh8680OiaK_-",
        "outputId": "992def15-efd7-447f-aac1-5c67f29dc273"
      },
      "outputs": [
        {
          "output_type": "stream",
          "name": "stdout",
          "text": [
            "Model: \"sequential\"\n",
            "_________________________________________________________________\n",
            " Layer (type)                Output Shape              Param #   \n",
            "=================================================================\n",
            " embedding (Embedding)       (None, 22, 32)            405792    \n",
            "                                                                 \n",
            " dense (Dense)               (None, 22, 32)            1056      \n",
            "                                                                 \n",
            " global_average_pooling1d (G  (None, 32)               0         \n",
            " lobalAveragePooling1D)                                          \n",
            "                                                                 \n",
            " dropout (Dropout)           (None, 32)                0         \n",
            "                                                                 \n",
            " dense_1 (Dense)             (None, 1)                 33        \n",
            "                                                                 \n",
            "=================================================================\n",
            "Total params: 406,881\n",
            "Trainable params: 406,881\n",
            "Non-trainable params: 0\n",
            "_________________________________________________________________\n",
            "None\n"
          ]
        },
        {
          "output_type": "execute_result",
          "data": {
            "image/png": "[encoded data removed]",
            "text/plain": [
              "<IPython.core.display.Image object>"
            ]
          },
          "metadata": {},
          "execution_count": 45
        }
      ],
      "source": [
        "from keras.utils.vis_utils import plot_model\n",
        "\n",
        "np.random.seed(123) #np seed \n",
        "set_random_seed(2) #keras seed\n",
        "\n",
        "vocab_size = num_word\n",
        "\n",
        "embedding_dim = 32\n",
        "model2 = tf.keras.Sequential([\n",
        "              tf.keras.layers.Embedding(vocab_size+1,embedding_dim,input_length=max_length),\n",
        "              tf.keras.layers.Dense(embedding_dim,activation='relu'),\n",
        "              tf.keras.layers.GlobalAveragePooling1D(),\n",
        "              tf.keras.layers.Dropout(0.1),\n",
        "              tf.keras.layers.Dense(1,activation='sigmoid')\n",
        "])\n",
        "model2.compile(loss='binary_crossentropy',optimizer='adam',metrics=['accuracy'])\n",
        "print(model2.summary())\n",
        "plot_model(model2, show_shapes= True)"
      ]
    },
    {
      "cell_type": "code",
      "execution_count": null,
      "metadata": {
        "colab": {
          "base_uri": "https://localhost:8080/"
        },
        "id": "vuNIvsCQalBo",
        "outputId": "38db91a0-101e-4fb9-f73d-9a69d51de3e1"
      },
      "outputs": [
        {
          "output_type": "stream",
          "name": "stdout",
          "text": [
            "Epoch 1/5\n",
            "328/328 [==============================] - 4s 8ms/step - loss: 0.6305 - accuracy: 0.6397 - val_loss: 0.5222 - val_accuracy: 0.8011 - lr: 0.0010\n",
            "Epoch 2/5\n",
            "328/328 [==============================] - 3s 8ms/step - loss: 0.3760 - accuracy: 0.8528 - val_loss: 0.3814 - val_accuracy: 0.8392 - lr: 0.0010\n",
            "Epoch 3/5\n",
            "328/328 [==============================] - 2s 8ms/step - loss: 0.2367 - accuracy: 0.9142 - val_loss: 0.3599 - val_accuracy: 0.8460 - lr: 0.0010\n",
            "Epoch 4/5\n",
            "328/328 [==============================] - 2s 7ms/step - loss: 0.1639 - accuracy: 0.9455 - val_loss: 0.3640 - val_accuracy: 0.8430 - lr: 0.0010\n",
            "Epoch 5/5\n",
            "328/328 [==============================] - 2s 7ms/step - loss: 0.1123 - accuracy: 0.9661 - val_loss: 0.3628 - val_accuracy: 0.8476 - lr: 0.0010\n"
          ]
        }
      ],
      "source": [
        "from keras.callbacks import ReduceLROnPlateau\n",
        "\n",
        "lr_reduction = ReduceLROnPlateau(monitor='val_accuracy',\n",
        "                                 patience=1, \n",
        "                                 verbose=1, \n",
        "                                 factor=0.5, \n",
        "                                 min_lr=0.1)\n",
        "\n",
        "history = model2.fit(X_train, np.array(y_train), epochs=5, batch_size=16, verbose=1, \n",
        "           validation_data=(X_val,np.array(y_val)),\n",
        "           callbacks=[lr_reduction])\n",
        "\n",
        "y_train_pred = model2.predict(X_train)\n",
        "y_val_pred = model2.predict(X_val)  "
      ]
    },
    {
      "cell_type": "markdown",
      "source": [
        "***Analyzing Missclassified Tweet***\n",
        "<br>\n",
        "Below are the possibilities why tweets are being missclassified: \n",
        "1. Label in the training data are not 100% accurate \n",
        "for example :\n",
        "<br>@camilacabello97 Internally and externally screaming screaming --> 1"
      ],
      "metadata": {
        "id": "nSaWZbZepEeD"
      }
    },
    {
      "cell_type": "code",
      "execution_count": null,
      "metadata": {
        "colab": {
          "base_uri": "https://localhost:8080/"
        },
        "id": "R_uffBz_BgKE",
        "outputId": "c4c438d6-43da-4c39-d7ab-44831c11a84a"
      },
      "outputs": [
        {
          "output_type": "stream",
          "name": "stdout",
          "text": [
            "17 1 [0.] burn michael haha would ball burn\n",
            "22 1 [0.] traumatise disneyirh traumatise\n",
            "106 0 [1.] sinkhole selfies believe brooklyn sinkhole sinkhole selfies belie\n",
            "156 0 [1.] hail user summon hailstorm last five turn damage pokemon except type\n",
            "515 1 [0.] meltdown meltdown victory mets\n",
            "517 1 [0.] drown drown like time damn game today\n",
            "522 1 [0.] drown drown child\n",
            "527 1 [0.] panic panic make tire want sleep\n",
            "570 1 [0.] flatten flatten thee striker\n",
            "625 1 [0.] danger bluebirddenver fettilootch slanglucci oppressions greatest danger come soon album\n",
            "654 1 [0.] crush sevenfigz crush\n",
            "666 0 [1.] gays totally destroy america build burn meteors crash school\n",
            "684 1 [0.] fire want shit fire\n",
            "711 1 [0.] lava check lava lamp dude\n",
            "779 1 [0.] rainstorm rainstorm last nearailway long enough\n",
            "865 1 [0.] curfew emmychappy clock say everyone home curfew\n",
            "911 1 [0.] blaze love live blaze inside balcony\n",
            "933 1 [0.] harm never escape bullets harm nothing harm know pain know pain sometimes share someone like\n",
            "980 1 [0.] trouble canagal good hear back storm give guy trouble though\n",
            "1010 1 [0.] blizzard call little blizzard\n",
            "1112 1 [0.] apocalypse begin snow apocalypse\n",
            "1228 1 [0.] trouble lucysforsale funny dumb young trouble\n",
            "1236 1 [0.] ambulance know ambulance come\n",
            "1451 1 [0.] pandemonium pandemonium\n",
            "1458 0 [1.] die debt costly survivors\n",
            "1461 0 [1.] fire truck service body fire fight rescue safety equient transporta\n",
            "1487 1 [0.] crush holy moly crush\n",
            "1495 0 [1.] booksbyroger follow brutally abuse desolate lose lovely die murder\n",
            "1528 1 [0.] raze davidvonderhaar least sincere\n",
            "1565 0 [1.] government concern population explosion population concern government explosion moore\n",
            "1615 0 [1.] home fast wish accident truck spill mayonnaise\n",
            "1630 0 [1.] twoptwips make natural disaster report interest add headline rescuers sift wreckage\n",
            "1649 1 [0.] sinkhole sinkhole brooklyn\n",
            "1669 1 [0.] burn hand burn\n",
            "1685 1 [0.] obliteration tiggr squad obliteration\n",
            "1782 1 [0.] destroy destroy free fandom honestly\n",
            "1793 0 [1.] faan order evacuation abandon aircraft todayng\n",
            "1802 1 [0.] annihilate ready annihilate bucs game\n",
            "1854 1 [0.] rubble china stock market crash gems rubble\n",
            "1903 1 [0.] crash make pikin crash\n",
            "2015 0 [1.] santa spring studebaker south trfc collision\n",
            "2104 0 [1.] wreck wreck wreck wreck wreck wreck wreck wreck wreck wreck wreck wreck wreck\n",
            "2120 1 [0.] tsunami wave miss anymore like tsunami tide eye\n",
            "2188 1 [0.] body bag aubrey really body bag meek\n",
            "2275 1 [0.] fear opposite love fear\n",
            "2311 1 [0.] fire nothing like good fire\n",
            "2340 1 [0.] disaster deal disaster\n",
            "2400 1 [0.] seismic exploration\n",
            "2459 0 [1.] foxnewsinsider obama give false time schedule iran test first bomb bomb nuclear suicide vest\n",
            "2505 0 [1.] hazardous weather outlook hazardous weather expect time\n",
            "2548 1 [0.] deluge businesses deluge invoice make stand colour shape likely rise pileq\n",
            "2664 1 [0.] obliteration thatsabinegirl planet could huge dose obliteration\n",
            "2680 1 [0.] survive country chim survive\n",
            "2810 1 [0.] wreck cain die emotional wreck emmerdale\n",
            "2886 1 [0.] annihilation stop annihilation salt river wild horse change\n",
            "2928 1 [0.] death adult die plague colorado\n",
            "2942 1 [0.] crash almost crash euro\n",
            "3008 1 [0.] flame watch flame\n",
            "3022 1 [0.] inundate ledofficial imagine inundate request week sample much love able send sweets\n",
            "3208 1 [0.] zone drug turn zone\n",
            "3521 1 [0.] armageddon armageddon\n",
            "3678 1 [0.] rubble forbes europe china stock market crash gems rubble\n",
            "3686 0 [1.] tornado fly around room come\n",
            "3776 1 [0.] pandemonium soon pandemonium\n",
            "3839 1 [0.] danger like could danger something\n",
            "3872 1 [0.] stretcher stretcher witter rexyy towel show picture\n",
            "3895 1 [0.] rescue take back africa rescue news\n",
            "3986 1 [0.] bleed stab back promise bleed\n",
            "4138 1 [0.] emergency emergency flow\n",
            "4176 1 [0.] wreck captainn morgan wreck\n",
            "4242 1 [0.] sandstorm sandstorm\n",
            "4257 1 [0.] crush dave high school crush youtube\n",
            "4355 1 [0.] blight todd calfee mattburgener want info blight\n",
            "4423 0 [1.] ever see president kill wound child crash sister plane claimin send\n",
            "4578 0 [1.] africa correction tent collapse story correction tent collapse story wizkidayo\n",
            "4656 1 [0.] hellfire lord zakuun hellfire\n",
            "4750 1 [0.] collide cars right front collide stop time would butgod\n",
            "4768 0 [1.] practice families fire escape plan everyone know case emergency\n",
            "4827 1 [0.] hazardous get hazardous get world alive\n",
            "4857 1 [0.] crush jorrynja crush\n",
            "4910 1 [0.] hill fire woods\n",
            "4967 1 [0.] annihilate annihilate\n",
            "5038 0 [1.] issue hazardous weather outlook\n",
            "5058 0 [1.] jose mercury governor brown allow parole california school hijacker\n",
            "5087 1 [0.] body bag another another still do shit nigga body bag meek\n",
            "5181 1 [0.] wreck greer die wreck\n",
            "5185 0 [1.] sinkhole selfies believe brooklyn sinkhole sinkhole hinterestin funny\n",
            "5192 1 [0.] zone direction concert zone otrametlife\n",
            "21 67\n"
          ]
        }
      ],
      "source": [
        "#checking wrong detection \n",
        "\n",
        "predicted_train = np.round(model2.predict(X_train, batch_size=0))\n",
        "X_text = tokenizer.sequences_to_texts(X_train)\n",
        "#dict_train=dict(zip(y_train.index, [X_text,y_train, predicted_train]))\n",
        "miss_0=0\n",
        "miss_1=0\n",
        "for i,y in enumerate(y_train): \n",
        "  if y != predicted_train[i]:\n",
        "    \n",
        "    print(i,y, predicted_train[i], X_text[i])\n",
        "    if y == 0: \n",
        "      miss_0+=1\n",
        "    if y == 1: \n",
        "      miss_1+=1\n",
        "\n",
        "print(miss_0,miss_1)"
      ]
    },
    {
      "cell_type": "code",
      "source": [
        "#Confusion Matrix Training Set  \n",
        "predicted_train = model2.predict(X_train, batch_size=32)\n",
        "class_pred_train= np.round(predicted_train)\n",
        "\n",
        "disp = ConfusionMatrixDisplay(confusion_matrix=confusion_matrix(class_pred_train,y_train), display_labels=np.unique(y_val))\n",
        "disp.plot(cmap='Blues') \n",
        "plt.grid(False)"
      ],
      "metadata": {
        "colab": {
          "base_uri": "https://localhost:8080/",
          "height": 279
        },
        "id": "_otNk6cIos9o",
        "outputId": "b41bdea8-f8c8-45ae-b630-6ec4e03907ba"
      },
      "execution_count": null,
      "outputs": [
        {
          "output_type": "display_data",
          "data": {
            "image/png": "[encoded data removed]",
            "text/plain": [
              "<Figure size 432x288 with 2 Axes>"
            ]
          },
          "metadata": {
            "needs_background": "light"
          }
        }
      ]
    },
    {
      "cell_type": "code",
      "execution_count": null,
      "metadata": {
        "colab": {
          "base_uri": "https://localhost:8080/",
          "height": 281
        },
        "id": "MGzwlBm8nzvC",
        "outputId": "03b689cc-3a51-4afd-c2b4-f859f3ba601b"
      },
      "outputs": [
        {
          "output_type": "display_data",
          "data": {
            "image/png": "[encoded data removed]",
            "text/plain": [
              "<Figure size 432x288 with 2 Axes>"
            ]
          },
          "metadata": {
            "needs_background": "light"
          }
        }
      ],
      "source": [
        "#Confusion Matrix Validation \n",
        "predicted_val = model2.predict(X_val, batch_size=32)\n",
        "class_pred_val= np.round(predicted_val)\n",
        "\n",
        "disp = ConfusionMatrixDisplay(confusion_matrix=confusion_matrix(class_pred_val,y_val), display_labels=np.unique(y_val))\n",
        "disp.plot(cmap='Blues') \n",
        "plt.grid(False)"
      ]
    },
    {
      "cell_type": "code",
      "execution_count": null,
      "metadata": {
        "colab": {
          "base_uri": "https://localhost:8080/",
          "height": 17
        },
        "id": "ZhDfibhze9sY",
        "outputId": "6c711cf1-0854-40bf-84b6-838d0b76e27e"
      },
      "outputs": [
        {
          "output_type": "display_data",
          "data": {
            "application/javascript": [
              "\n",
              "    async function download(id, filename, size) {\n",
              "      if (!google.colab.kernel.accessAllowed) {\n",
              "        return;\n",
              "      }\n",
              "      const div = document.createElement('div');\n",
              "      const label = document.createElement('label');\n",
              "      label.textContent = `Downloading \"${filename}\": `;\n",
              "      div.appendChild(label);\n",
              "      const progress = document.createElement('progress');\n",
              "      progress.max = size;\n",
              "      div.appendChild(progress);\n",
              "      document.body.appendChild(div);\n",
              "\n",
              "      const buffers = [];\n",
              "      let downloaded = 0;\n",
              "\n",
              "      const channel = await google.colab.kernel.comms.open(id);\n",
              "      // Send a message to notify the kernel that we're ready.\n",
              "      channel.send({})\n",
              "\n",
              "      for await (const message of channel.messages) {\n",
              "        // Send a message to notify the kernel that we're ready.\n",
              "        channel.send({})\n",
              "        if (message.buffers) {\n",
              "          for (const buffer of message.buffers) {\n",
              "            buffers.push(buffer);\n",
              "            downloaded += buffer.byteLength;\n",
              "            progress.value = downloaded;\n",
              "          }\n",
              "        }\n",
              "      }\n",
              "      const blob = new Blob(buffers, {type: 'application/binary'});\n",
              "      const a = document.createElement('a');\n",
              "      a.href = window.URL.createObjectURL(blob);\n",
              "      a.download = filename;\n",
              "      div.appendChild(a);\n",
              "      a.click();\n",
              "      div.remove();\n",
              "    }\n",
              "  "
            ],
            "text/plain": [
              "<IPython.core.display.Javascript object>"
            ]
          },
          "metadata": {}
        },
        {
          "output_type": "display_data",
          "data": {
            "application/javascript": [
              "download(\"download_1d112300-399b-4f31-8097-d2c75aa49e40\", \"prediction_file.csv\", 22746)"
            ],
            "text/plain": [
              "<IPython.core.display.Javascript object>"
            ]
          },
          "metadata": {}
        }
      ],
      "source": [
        "predicted_val = model2.predict(test_padded, batch_size=8)\n",
        "class_predict = np.round(predicted_val)\n",
        "class_predict=class_predict.astype(\"Int32\")\n",
        "#download the file\n",
        "X_test_id = test_csv[\"id\"].values.astype(\"Int32\") # these are needed to build output prediction files if you want to submit your predictions to the Kaggle website (see format of the submission)\n",
        "download_predictions_to_file(X_test_id, class_predict) # download the prediction file"
      ]
    },
    {
      "cell_type": "code",
      "execution_count": null,
      "metadata": {
        "colab": {
          "base_uri": "https://localhost:8080/",
          "height": 295
        },
        "id": "PGNiT7OYheuk",
        "outputId": "9af79064-df6b-479a-9da0-882fdd6d8d91"
      },
      "outputs": [
        {
          "output_type": "display_data",
          "data": {
            "image/png": "[encoded data removed]",
            "text/plain": [
              "<Figure size 432x288 with 1 Axes>"
            ]
          },
          "metadata": {
            "needs_background": "light"
          }
        }
      ],
      "source": [
        "# summarize history for accuracy\n",
        "plt.plot(history.history['accuracy'])\n",
        "plt.plot(history.history['val_accuracy'])\n",
        "plt.title('model accuracy')\n",
        "plt.ylabel('accuracy')\n",
        "plt.xlabel('epoch')\n",
        "plt.legend(['train', 'val'], loc='upper left')\n",
        "plt.show()"
      ]
    },
    {
      "cell_type": "code",
      "execution_count": null,
      "metadata": {
        "colab": {
          "base_uri": "https://localhost:8080/",
          "height": 295
        },
        "id": "8JZEiwq2UfkM",
        "outputId": "04fc7822-5fa7-4212-91f0-db0f29604891"
      },
      "outputs": [
        {
          "output_type": "display_data",
          "data": {
            "image/png": "[encoded data removed]",
            "text/plain": [
              "<Figure size 432x288 with 1 Axes>"
            ]
          },
          "metadata": {
            "needs_background": "light"
          }
        }
      ],
      "source": [
        "# summarize history for loss\n",
        "plt.plot(history.history['loss'])\n",
        "plt.plot(history.history['val_loss'])\n",
        "plt.title('model loss')\n",
        "plt.ylabel('loss')\n",
        "plt.xlabel('epoch')\n",
        "plt.legend(['train', 'val'], loc='upper left')\n",
        "plt.show()"
      ]
    }
  ],
  "metadata": {
    "colab": {
      "collapsed_sections": [
        "YQXWrpLFWTyT",
        "5m2KsbgLxMx8",
        "U7zn25GUyFZK"
      ],
      "name": "NLP - Gita Andadari - Endrit Sveçla.ipynb",
      "provenance": []
    },
    "kernelspec": {
      "display_name": "Python 3",
      "name": "python3"
    },
    "language_info": {
      "name": "python"
    }
  },
  "nbformat": 4,
  "nbformat_minor": 0
}